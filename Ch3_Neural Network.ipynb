{
 "cells": [
  {
   "cell_type": "markdown",
   "metadata": {},
   "source": [
    "# Ch3. Neural Network"
   ]
  },
  {
   "cell_type": "markdown",
   "metadata": {},
   "source": [
    "## Set-up"
   ]
  },
  {
   "cell_type": "code",
   "execution_count": 12,
   "metadata": {
    "scrolled": true
   },
   "outputs": [
    {
     "name": "stdout",
     "output_type": "stream",
     "text": [
      "Requirement already satisfied: tensorflow in c:\\users\\user\\anaconda3\\lib\\site-packages (2.4.1)\n",
      "Requirement already satisfied: tensorboard~=2.4 in c:\\users\\user\\anaconda3\\lib\\site-packages (from tensorflow) (2.4.1)\n",
      "Requirement already satisfied: keras-preprocessing~=1.1.2 in c:\\users\\user\\anaconda3\\lib\\site-packages (from tensorflow) (1.1.2)\n",
      "Requirement already satisfied: gast==0.3.3 in c:\\users\\user\\anaconda3\\lib\\site-packages (from tensorflow) (0.3.3)\n",
      "Requirement already satisfied: opt-einsum~=3.3.0 in c:\\users\\user\\anaconda3\\lib\\site-packages (from tensorflow) (3.3.0)\n",
      "Requirement already satisfied: protobuf>=3.9.2 in c:\\users\\user\\anaconda3\\lib\\site-packages (from tensorflow) (3.15.6)\n",
      "Requirement already satisfied: typing-extensions~=3.7.4 in c:\\users\\user\\anaconda3\\lib\\site-packages (from tensorflow) (3.7.4.3)\n",
      "Requirement already satisfied: grpcio~=1.32.0 in c:\\users\\user\\anaconda3\\lib\\site-packages (from tensorflow) (1.32.0)\n",
      "Requirement already satisfied: wrapt~=1.12.1 in c:\\users\\user\\anaconda3\\lib\\site-packages (from tensorflow) (1.12.1)\n",
      "Requirement already satisfied: tensorflow-estimator<2.5.0,>=2.4.0 in c:\\users\\user\\anaconda3\\lib\\site-packages (from tensorflow) (2.4.0)\n",
      "Requirement already satisfied: flatbuffers~=1.12.0 in c:\\users\\user\\anaconda3\\lib\\site-packages (from tensorflow) (1.12)\n",
      "Requirement already satisfied: absl-py~=0.10 in c:\\users\\user\\anaconda3\\lib\\site-packages (from tensorflow) (0.12.0)\n",
      "Requirement already satisfied: astunparse~=1.6.3 in c:\\users\\user\\anaconda3\\lib\\site-packages (from tensorflow) (1.6.3)\n",
      "Requirement already satisfied: six~=1.15.0 in c:\\users\\user\\anaconda3\\lib\\site-packages (from tensorflow) (1.15.0)\n",
      "Requirement already satisfied: termcolor~=1.1.0 in c:\\users\\user\\anaconda3\\lib\\site-packages (from tensorflow) (1.1.0)\n",
      "Requirement already satisfied: wheel~=0.35 in c:\\users\\user\\anaconda3\\lib\\site-packages (from tensorflow) (0.35.1)\n",
      "Requirement already satisfied: h5py~=2.10.0 in c:\\users\\user\\anaconda3\\lib\\site-packages (from tensorflow) (2.10.0)\n",
      "Requirement already satisfied: google-pasta~=0.2 in c:\\users\\user\\anaconda3\\lib\\site-packages (from tensorflow) (0.2.0)\n",
      "Requirement already satisfied: numpy~=1.19.2 in c:\\users\\user\\anaconda3\\lib\\site-packages (from tensorflow) (1.19.2)\n",
      "Requirement already satisfied: requests<3,>=2.21.0 in c:\\users\\user\\anaconda3\\lib\\site-packages (from tensorboard~=2.4->tensorflow) (2.24.0)\n",
      "Requirement already satisfied: tensorboard-plugin-wit>=1.6.0 in c:\\users\\user\\anaconda3\\lib\\site-packages (from tensorboard~=2.4->tensorflow) (1.8.0)\n",
      "Requirement already satisfied: setuptools>=41.0.0 in c:\\users\\user\\anaconda3\\lib\\site-packages (from tensorboard~=2.4->tensorflow) (50.3.1.post20201107)\n",
      "Requirement already satisfied: werkzeug>=0.11.15 in c:\\users\\user\\anaconda3\\lib\\site-packages (from tensorboard~=2.4->tensorflow) (1.0.1)\n",
      "Requirement already satisfied: google-auth<2,>=1.6.3 in c:\\users\\user\\anaconda3\\lib\\site-packages (from tensorboard~=2.4->tensorflow) (1.28.0)\n",
      "Requirement already satisfied: markdown>=2.6.8 in c:\\users\\user\\anaconda3\\lib\\site-packages (from tensorboard~=2.4->tensorflow) (3.3.4)\n",
      "Requirement already satisfied: google-auth-oauthlib<0.5,>=0.4.1 in c:\\users\\user\\anaconda3\\lib\\site-packages (from tensorboard~=2.4->tensorflow) (0.4.3)\n",
      "Requirement already satisfied: pyasn1-modules>=0.2.1 in c:\\users\\user\\anaconda3\\lib\\site-packages (from google-auth<2,>=1.6.3->tensorboard~=2.4->tensorflow) (0.2.8)\n",
      "Requirement already satisfied: cachetools<5.0,>=2.0.0 in c:\\users\\user\\anaconda3\\lib\\site-packages (from google-auth<2,>=1.6.3->tensorboard~=2.4->tensorflow) (4.2.1)\n",
      "Requirement already satisfied: rsa<5,>=3.1.4 in c:\\users\\user\\anaconda3\\lib\\site-packages (from google-auth<2,>=1.6.3->tensorboard~=2.4->tensorflow) (4.7.2)\n",
      "Requirement already satisfied: requests-oauthlib>=0.7.0 in c:\\users\\user\\anaconda3\\lib\\site-packages (from google-auth-oauthlib<0.5,>=0.4.1->tensorboard~=2.4->tensorflow) (1.3.0)\n",
      "Requirement already satisfied: pyasn1<0.5.0,>=0.4.6 in c:\\users\\user\\anaconda3\\lib\\site-packages (from pyasn1-modules>=0.2.1->google-auth<2,>=1.6.3->tensorboard~=2.4->tensorflow) (0.4.8)\n",
      "Requirement already satisfied: chardet<4,>=3.0.2 in c:\\users\\user\\anaconda3\\lib\\site-packages (from requests<3,>=2.21.0->tensorboard~=2.4->tensorflow) (3.0.4)\n",
      "Requirement already satisfied: idna<3,>=2.5 in c:\\users\\user\\anaconda3\\lib\\site-packages (from requests<3,>=2.21.0->tensorboard~=2.4->tensorflow) (2.10)\n",
      "Requirement already satisfied: urllib3!=1.25.0,!=1.25.1,<1.26,>=1.21.1 in c:\\users\\user\\anaconda3\\lib\\site-packages (from requests<3,>=2.21.0->tensorboard~=2.4->tensorflow) (1.25.11)\n",
      "Requirement already satisfied: certifi>=2017.4.17 in c:\\users\\user\\anaconda3\\lib\\site-packages (from requests<3,>=2.21.0->tensorboard~=2.4->tensorflow) (2020.6.20)\n",
      "Requirement already satisfied: oauthlib>=3.0.0 in c:\\users\\user\\anaconda3\\lib\\site-packages (from requests-oauthlib>=0.7.0->google-auth-oauthlib<0.5,>=0.4.1->tensorboard~=2.4->tensorflow) (3.1.0)\n",
      "Note: you may need to restart the kernel to use updated packages.\n"
     ]
    }
   ],
   "source": [
    "pip install tensorflow"
   ]
  },
  {
   "cell_type": "code",
   "execution_count": 13,
   "metadata": {
    "scrolled": false
   },
   "outputs": [
    {
     "name": "stdout",
     "output_type": "stream",
     "text": [
      "Requirement already satisfied: keras in c:\\users\\user\\anaconda3\\lib\\site-packages (2.4.3)Note: you may need to restart the kernel to use updated packages.\n",
      "Requirement already satisfied: h5py in c:\\users\\user\\anaconda3\\lib\\site-packages (from keras) (2.10.0)\n",
      "Requirement already satisfied: scipy>=0.14 in c:\\users\\user\\anaconda3\\lib\\site-packages (from keras) (1.5.2)\n",
      "Requirement already satisfied: pyyaml in c:\\users\\user\\anaconda3\\lib\\site-packages (from keras) (5.3.1)\n",
      "Requirement already satisfied: numpy>=1.9.1 in c:\\users\\user\\anaconda3\\lib\\site-packages (from keras) (1.19.2)\n",
      "Requirement already satisfied: six in c:\\users\\user\\anaconda3\\lib\\site-packages (from h5py->keras) (1.15.0)\n",
      "\n"
     ]
    }
   ],
   "source": [
    "pip install keras"
   ]
  },
  {
   "cell_type": "markdown",
   "metadata": {},
   "source": [
    "## 3.1-2. Structure of Neural Network & Introducing Keras\n"
   ]
  },
  {
   "cell_type": "markdown",
   "metadata": {},
   "source": [
    "![](example1.png)"
   ]
  },
  {
   "cell_type": "markdown",
   "metadata": {},
   "source": [
    "### 0. Prepare Data\n",
    "### 1. Building the model\n",
    "#### 1) By Sequential class"
   ]
  },
  {
   "cell_type": "code",
   "execution_count": 2,
   "metadata": {},
   "outputs": [],
   "source": [
    "## Up until Ch.7, we stick with the Sequential class model.\n",
    "\n",
    "from keras import models\n",
    "from keras import layers\n",
    "\n",
    "model=models.Sequential()\n",
    "model.add(layers.Dense(32,activation='relu',input_shape=(784,)))\n",
    "model.add(layers.Dense(10, activation='softmax')) # the input shape here is unspecified; Keras automatically adjusts the next layer to acheive compatibility with the output data of the first layer"
   ]
  },
  {
   "cell_type": "markdown",
   "metadata": {},
   "source": [
    "#### 2) By Functional API (refer to ch7. for detail)"
   ]
  },
  {
   "cell_type": "code",
   "execution_count": 3,
   "metadata": {},
   "outputs": [],
   "source": [
    "input_tensor= layers.Input(shape=(784,))\n",
    "x= layers.Dense(32, activation='relu')(input_tensor) \n",
    "output_tensor=layers.Dense(10, activation='softmax')(x) \n",
    "\n",
    "model= models.Model(inputs=input_tensor, outputs=output_tensor)"
   ]
  },
  {
   "cell_type": "markdown",
   "metadata": {},
   "source": [
    "### 2. Compiling"
   ]
  },
  {
   "cell_type": "code",
   "execution_count": 4,
   "metadata": {},
   "outputs": [],
   "source": [
    "# When compiling the model, the process is the same regardless of whichever model you used.\n",
    "# Parameters: optimizer & loss & metrics\n",
    "\n",
    "from keras import optimizers\n",
    "\n",
    "#line 7: delivering an object to the parameter, line 8~9: Default options in Keras\n",
    "model.compile(optimizer=optimizers.RMSprop(lr=0.001), #lr stands for Learning Rate\n",
    "              loss='mse',   \n",
    "              metrics=['accuracy'])"
   ]
  },
  {
   "cell_type": "markdown",
   "metadata": {},
   "source": [
    "#### ※ Learning Rate\n",
    "![](lr.png)"
   ]
  },
  {
   "cell_type": "markdown",
   "metadata": {},
   "source": [
    "### 3. Training the model"
   ]
  },
  {
   "cell_type": "code",
   "execution_count": 9,
   "metadata": {
    "scrolled": false
   },
   "outputs": [
    {
     "ename": "NameError",
     "evalue": "name 'target_tensor' is not defined",
     "output_type": "error",
     "traceback": [
      "\u001b[0;31m---------------------------------------------------------------------------\u001b[0m",
      "\u001b[0;31mNameError\u001b[0m                                 Traceback (most recent call last)",
      "\u001b[0;32m<ipython-input-9-c17b2397d844>\u001b[0m in \u001b[0;36m<module>\u001b[0;34m\u001b[0m\n\u001b[0;32m----> 1\u001b[0;31m \u001b[0mmodel\u001b[0m\u001b[0;34m.\u001b[0m\u001b[0mfit\u001b[0m\u001b[0;34m(\u001b[0m\u001b[0minput_tensor\u001b[0m\u001b[0;34m,\u001b[0m \u001b[0mtarget_tensor\u001b[0m\u001b[0;34m,\u001b[0m \u001b[0mbatch_size\u001b[0m\u001b[0;34m=\u001b[0m\u001b[0;36m128\u001b[0m\u001b[0;34m,\u001b[0m \u001b[0mepochs\u001b[0m\u001b[0;34m=\u001b[0m\u001b[0;36m10\u001b[0m\u001b[0;34m)\u001b[0m\u001b[0;34m\u001b[0m\u001b[0;34m\u001b[0m\u001b[0m\n\u001b[0m",
      "\u001b[0;31mNameError\u001b[0m: name 'target_tensor' is not defined"
     ]
    }
   ],
   "source": [
    "model.fit(input_tensor, target_tensor, batch_size=128, epochs=10)"
   ]
  },
  {
   "cell_type": "markdown",
   "metadata": {},
   "source": [
    "## 3.4. Binary classification using movie reviews"
   ]
  },
  {
   "cell_type": "code",
   "execution_count": 5,
   "metadata": {},
   "outputs": [],
   "source": [
    "# Internet Movie Database, 50000 extreme reviews, 50% positive, 50% negative\n",
    "from keras.datasets import imdb "
   ]
  },
  {
   "cell_type": "markdown",
   "metadata": {},
   "source": [
    "### 0. Uploading the IMDB dataset"
   ]
  },
  {
   "cell_type": "code",
   "execution_count": 55,
   "metadata": {},
   "outputs": [],
   "source": [
    "#Make sure to seperate test data from train data\n",
    "(train_data, train_labels), (test_data, test_labels)=imdb.load_data(\n",
    "    num_words=10000) #Use the most frequent 10000 words"
   ]
  },
  {
   "cell_type": "code",
   "execution_count": 95,
   "metadata": {
    "scrolled": true
   },
   "outputs": [
    {
     "data": {
      "text/plain": [
       "array([list([1, 14, 22, 16, 43, 530, 973, 1622, 1385, 65, 458, 4468, 66, 3941, 4, 173, 36, 256, 5, 25, 100, 43, 838, 112, 50, 670, 2, 9, 35, 480, 284, 5, 150, 4, 172, 112, 167, 2, 336, 385, 39, 4, 172, 4536, 1111, 17, 546, 38, 13, 447, 4, 192, 50, 16, 6, 147, 2025, 19, 14, 22, 4, 1920, 4613, 469, 4, 22, 71, 87, 12, 16, 43, 530, 38, 76, 15, 13, 1247, 4, 22, 17, 515, 17, 12, 16, 626, 18, 2, 5, 62, 386, 12, 8, 316, 8, 106, 5, 4, 2223, 5244, 16, 480, 66, 3785, 33, 4, 130, 12, 16, 38, 619, 5, 25, 124, 51, 36, 135, 48, 25, 1415, 33, 6, 22, 12, 215, 28, 77, 52, 5, 14, 407, 16, 82, 2, 8, 4, 107, 117, 5952, 15, 256, 4, 2, 7, 3766, 5, 723, 36, 71, 43, 530, 476, 26, 400, 317, 46, 7, 4, 2, 1029, 13, 104, 88, 4, 381, 15, 297, 98, 32, 2071, 56, 26, 141, 6, 194, 7486, 18, 4, 226, 22, 21, 134, 476, 26, 480, 5, 144, 30, 5535, 18, 51, 36, 28, 224, 92, 25, 104, 4, 226, 65, 16, 38, 1334, 88, 12, 16, 283, 5, 16, 4472, 113, 103, 32, 15, 16, 5345, 19, 178, 32]),\n",
       "       list([1, 194, 1153, 194, 8255, 78, 228, 5, 6, 1463, 4369, 5012, 134, 26, 4, 715, 8, 118, 1634, 14, 394, 20, 13, 119, 954, 189, 102, 5, 207, 110, 3103, 21, 14, 69, 188, 8, 30, 23, 7, 4, 249, 126, 93, 4, 114, 9, 2300, 1523, 5, 647, 4, 116, 9, 35, 8163, 4, 229, 9, 340, 1322, 4, 118, 9, 4, 130, 4901, 19, 4, 1002, 5, 89, 29, 952, 46, 37, 4, 455, 9, 45, 43, 38, 1543, 1905, 398, 4, 1649, 26, 6853, 5, 163, 11, 3215, 2, 4, 1153, 9, 194, 775, 7, 8255, 2, 349, 2637, 148, 605, 2, 8003, 15, 123, 125, 68, 2, 6853, 15, 349, 165, 4362, 98, 5, 4, 228, 9, 43, 2, 1157, 15, 299, 120, 5, 120, 174, 11, 220, 175, 136, 50, 9, 4373, 228, 8255, 5, 2, 656, 245, 2350, 5, 4, 9837, 131, 152, 491, 18, 2, 32, 7464, 1212, 14, 9, 6, 371, 78, 22, 625, 64, 1382, 9, 8, 168, 145, 23, 4, 1690, 15, 16, 4, 1355, 5, 28, 6, 52, 154, 462, 33, 89, 78, 285, 16, 145, 95]),\n",
       "       list([1, 14, 47, 8, 30, 31, 7, 4, 249, 108, 7, 4, 5974, 54, 61, 369, 13, 71, 149, 14, 22, 112, 4, 2401, 311, 12, 16, 3711, 33, 75, 43, 1829, 296, 4, 86, 320, 35, 534, 19, 263, 4821, 1301, 4, 1873, 33, 89, 78, 12, 66, 16, 4, 360, 7, 4, 58, 316, 334, 11, 4, 1716, 43, 645, 662, 8, 257, 85, 1200, 42, 1228, 2578, 83, 68, 3912, 15, 36, 165, 1539, 278, 36, 69, 2, 780, 8, 106, 14, 6905, 1338, 18, 6, 22, 12, 215, 28, 610, 40, 6, 87, 326, 23, 2300, 21, 23, 22, 12, 272, 40, 57, 31, 11, 4, 22, 47, 6, 2307, 51, 9, 170, 23, 595, 116, 595, 1352, 13, 191, 79, 638, 89, 2, 14, 9, 8, 106, 607, 624, 35, 534, 6, 227, 7, 129, 113]),\n",
       "       ...,\n",
       "       list([1, 11, 6, 230, 245, 6401, 9, 6, 1225, 446, 2, 45, 2174, 84, 8322, 4007, 21, 4, 912, 84, 2, 325, 725, 134, 2, 1715, 84, 5, 36, 28, 57, 1099, 21, 8, 140, 8, 703, 5, 2, 84, 56, 18, 1644, 14, 9, 31, 7, 4, 9406, 1209, 2295, 2, 1008, 18, 6, 20, 207, 110, 563, 12, 8, 2901, 2, 8, 97, 6, 20, 53, 4767, 74, 4, 460, 364, 1273, 29, 270, 11, 960, 108, 45, 40, 29, 2961, 395, 11, 6, 4065, 500, 7, 2, 89, 364, 70, 29, 140, 4, 64, 4780, 11, 4, 2678, 26, 178, 4, 529, 443, 2, 5, 27, 710, 117, 2, 8123, 165, 47, 84, 37, 131, 818, 14, 595, 10, 10, 61, 1242, 1209, 10, 10, 288, 2260, 1702, 34, 2901, 2, 4, 65, 496, 4, 231, 7, 790, 5, 6, 320, 234, 2766, 234, 1119, 1574, 7, 496, 4, 139, 929, 2901, 2, 7750, 5, 4241, 18, 4, 8497, 2, 250, 11, 1818, 7561, 4, 4217, 5408, 747, 1115, 372, 1890, 1006, 541, 9303, 7, 4, 59, 2, 4, 3586, 2]),\n",
       "       list([1, 1446, 7079, 69, 72, 3305, 13, 610, 930, 8, 12, 582, 23, 5, 16, 484, 685, 54, 349, 11, 4120, 2959, 45, 58, 1466, 13, 197, 12, 16, 43, 23, 2, 5, 62, 30, 145, 402, 11, 4131, 51, 575, 32, 61, 369, 71, 66, 770, 12, 1054, 75, 100, 2198, 8, 4, 105, 37, 69, 147, 712, 75, 3543, 44, 257, 390, 5, 69, 263, 514, 105, 50, 286, 1814, 23, 4, 123, 13, 161, 40, 5, 421, 4, 116, 16, 897, 13, 2, 40, 319, 5872, 112, 6700, 11, 4803, 121, 25, 70, 3468, 4, 719, 3798, 13, 18, 31, 62, 40, 8, 7200, 4, 2, 7, 14, 123, 5, 942, 25, 8, 721, 12, 145, 5, 202, 12, 160, 580, 202, 12, 6, 52, 58, 2, 92, 401, 728, 12, 39, 14, 251, 8, 15, 251, 5, 2, 12, 38, 84, 80, 124, 12, 9, 23]),\n",
       "       list([1, 17, 6, 194, 337, 7, 4, 204, 22, 45, 254, 8, 106, 14, 123, 4, 2, 270, 2, 5, 2, 2, 732, 2098, 101, 405, 39, 14, 1034, 4, 1310, 9, 115, 50, 305, 12, 47, 4, 168, 5, 235, 7, 38, 111, 699, 102, 7, 4, 4039, 9245, 9, 24, 6, 78, 1099, 17, 2345, 2, 21, 27, 9685, 6139, 5, 2, 1603, 92, 1183, 4, 1310, 7, 4, 204, 42, 97, 90, 35, 221, 109, 29, 127, 27, 118, 8, 97, 12, 157, 21, 6789, 2, 9, 6, 66, 78, 1099, 4, 631, 1191, 5, 2642, 272, 191, 1070, 6, 7585, 8, 2197, 2, 2, 544, 5, 383, 1271, 848, 1468, 2, 497, 2, 8, 1597, 8778, 2, 21, 60, 27, 239, 9, 43, 8368, 209, 405, 10, 10, 12, 764, 40, 4, 248, 20, 12, 16, 5, 174, 1791, 72, 7, 51, 6, 1739, 22, 4, 204, 131, 9])],\n",
       "      dtype=object)"
      ]
     },
     "execution_count": 95,
     "metadata": {},
     "output_type": "execute_result"
    }
   ],
   "source": [
    "train_data"
   ]
  },
  {
   "cell_type": "code",
   "execution_count": 113,
   "metadata": {},
   "outputs": [
    {
     "name": "stdout",
     "output_type": "stream",
     "text": [
      "(25000,)\n"
     ]
    }
   ],
   "source": [
    "print(train_data.shape)"
   ]
  },
  {
   "cell_type": "code",
   "execution_count": 102,
   "metadata": {},
   "outputs": [
    {
     "data": {
      "text/plain": [
       "[1,\n",
       " 617,\n",
       " 11,\n",
       " 3875,\n",
       " 17,\n",
       " 2,\n",
       " 14,\n",
       " 966,\n",
       " 78,\n",
       " 20,\n",
       " 9,\n",
       " 38,\n",
       " 78,\n",
       " 15,\n",
       " 25,\n",
       " 413,\n",
       " 2,\n",
       " 5,\n",
       " 28,\n",
       " 8,\n",
       " 106,\n",
       " 12,\n",
       " 8,\n",
       " 4,\n",
       " 130,\n",
       " 43,\n",
       " 8,\n",
       " 67,\n",
       " 48,\n",
       " 12,\n",
       " 100,\n",
       " 79,\n",
       " 101,\n",
       " 433,\n",
       " 5,\n",
       " 12,\n",
       " 127,\n",
       " 4,\n",
       " 769,\n",
       " 9,\n",
       " 38,\n",
       " 727,\n",
       " 12,\n",
       " 186,\n",
       " 398,\n",
       " 34,\n",
       " 6,\n",
       " 312,\n",
       " 396,\n",
       " 2,\n",
       " 707,\n",
       " 4,\n",
       " 732,\n",
       " 26,\n",
       " 1235,\n",
       " 21,\n",
       " 2,\n",
       " 128,\n",
       " 74,\n",
       " 4,\n",
       " 2,\n",
       " 5,\n",
       " 4,\n",
       " 116,\n",
       " 9,\n",
       " 1639,\n",
       " 10,\n",
       " 10,\n",
       " 4,\n",
       " 2,\n",
       " 2,\n",
       " 186,\n",
       " 8,\n",
       " 28,\n",
       " 77,\n",
       " 2586,\n",
       " 39,\n",
       " 4,\n",
       " 4135,\n",
       " 2,\n",
       " 7,\n",
       " 2,\n",
       " 2,\n",
       " 50,\n",
       " 161,\n",
       " 306,\n",
       " 8,\n",
       " 30,\n",
       " 6,\n",
       " 686,\n",
       " 204,\n",
       " 326,\n",
       " 11,\n",
       " 4,\n",
       " 226,\n",
       " 20,\n",
       " 10,\n",
       " 10,\n",
       " 13,\n",
       " 258,\n",
       " 14,\n",
       " 20,\n",
       " 8,\n",
       " 30,\n",
       " 38,\n",
       " 78,\n",
       " 15,\n",
       " 13,\n",
       " 1498,\n",
       " 91,\n",
       " 7,\n",
       " 4,\n",
       " 96,\n",
       " 143,\n",
       " 10,\n",
       " 10,\n",
       " 9859,\n",
       " 9064,\n",
       " 144,\n",
       " 3261,\n",
       " 27,\n",
       " 419,\n",
       " 11,\n",
       " 902,\n",
       " 29,\n",
       " 540,\n",
       " 887,\n",
       " 4,\n",
       " 278]"
      ]
     },
     "execution_count": 102,
     "metadata": {},
     "output_type": "execute_result"
    }
   ],
   "source": [
    "train_data[20]"
   ]
  },
  {
   "cell_type": "code",
   "execution_count": 52,
   "metadata": {},
   "outputs": [
    {
     "data": {
      "text/plain": [
       "0"
      ]
     },
     "execution_count": 52,
     "metadata": {},
     "output_type": "execute_result"
    }
   ],
   "source": [
    "train_labels[20]"
   ]
  },
  {
   "cell_type": "code",
   "execution_count": 107,
   "metadata": {},
   "outputs": [
    {
     "data": {
      "text/plain": [
       "9999"
      ]
     },
     "execution_count": 107,
     "metadata": {},
     "output_type": "execute_result"
    }
   ],
   "source": [
    "max([max(sequence) for sequence in train_data]) # word index does not exceed 10000"
   ]
  },
  {
   "cell_type": "markdown",
   "metadata": {},
   "source": [
    "#### Optional) Decode one indexed data to retrieve the original text"
   ]
  },
  {
   "cell_type": "code",
   "execution_count": 88,
   "metadata": {},
   "outputs": [],
   "source": [
    "word_index=imdb.get_word_index()\n",
    "reverse_word_index=dict(  \n",
    "    [(value,key) for (key,value) in word_index.items()])\n",
    "decoded_review=' '.join(\n",
    "    [reverse_word_index.get(i-3,'?') for i in train_data[20]])"
   ]
  },
  {
   "cell_type": "code",
   "execution_count": 108,
   "metadata": {},
   "outputs": [
    {
     "data": {
      "text/plain": [
       "['a', 'the', 'and']"
      ]
     },
     "execution_count": 108,
     "metadata": {},
     "output_type": "execute_result"
    }
   ],
   "source": [
    "[k for (k,v) in word_index.items() if v<=3]"
   ]
  },
  {
   "cell_type": "code",
   "execution_count": 89,
   "metadata": {
    "scrolled": true
   },
   "outputs": [
    {
     "data": {
      "text/plain": [
       "\"? shown in australia as ? this incredibly bad movie is so bad that you become ? and have to watch it to the end just to see if it could get any worse and it does the storyline is so predictable it seems written by a high school ? class the sets are pathetic but ? better than the ? and the acting is wooden br br the ? ? seems to have been stolen from the props ? of ? ? there didn't seem to be a single original idea in the whole movie br br i found this movie to be so bad that i laughed most of the way through br br malcolm mcdowell should hang his head in shame he obviously needed the money\""
      ]
     },
     "execution_count": 89,
     "metadata": {},
     "output_type": "execute_result"
    }
   ],
   "source": [
    "decoded_review"
   ]
  },
  {
   "cell_type": "markdown",
   "metadata": {},
   "source": [
    "### 1. Prepare data for Neural Network (Converting list to tensor)\n",
    "##### 1) Embedding: transforming into integer tensor. (from Ch. 6)\n",
    "##### 2)One-hot encoding: \" into vectors comprised of either 0 and 1. (for now)"
   ]
  },
  {
   "cell_type": "code",
   "execution_count": 91,
   "metadata": {},
   "outputs": [],
   "source": [
    "#Covert list into one-hot vector(binary vectors)\n",
    "\n",
    "import numpy as np\n",
    "\n",
    "def vectorize_sequences(sequences, dimension=10000):\n",
    "    results=np.zeros((len(sequences),dimension)) # Creating an all-zero matrix with shape((len(sequences), dimension))\n",
    "    for i, sequence in enumerate(sequences):\n",
    "        results[i, sequence]=1.\n",
    "    return results\n",
    "\n",
    "x_train=vectorize_sequences(train_data)\n",
    "x_test=vectorize_sequences(test_data)"
   ]
  },
  {
   "cell_type": "code",
   "execution_count": 112,
   "metadata": {},
   "outputs": [
    {
     "name": "stdout",
     "output_type": "stream",
     "text": [
      "(25000, 10000)\n"
     ]
    }
   ],
   "source": [
    "print(x_train.shape)"
   ]
  },
  {
   "cell_type": "code",
   "execution_count": 119,
   "metadata": {},
   "outputs": [
    {
     "data": {
      "text/plain": [
       "array([0., 1., 1., ..., 0., 0., 0.])"
      ]
     },
     "execution_count": 119,
     "metadata": {},
     "output_type": "execute_result"
    }
   ],
   "source": [
    "x_train[20]"
   ]
  },
  {
   "cell_type": "code",
   "execution_count": 120,
   "metadata": {},
   "outputs": [
    {
     "data": {
      "text/plain": [
       "array([0., 1., 1., ..., 0., 0., 0.])"
      ]
     },
     "execution_count": 120,
     "metadata": {},
     "output_type": "execute_result"
    }
   ],
   "source": [
    "x_test[20]"
   ]
  },
  {
   "cell_type": "code",
   "execution_count": 123,
   "metadata": {},
   "outputs": [],
   "source": [
    "#Vectorize Labels\n",
    "y_train=np.asarray(train_labels).astype('float32')\n",
    "y_test=np.asarray(test_labels).astype('float32')"
   ]
  },
  {
   "cell_type": "code",
   "execution_count": 124,
   "metadata": {},
   "outputs": [
    {
     "data": {
      "text/plain": [
       "0.0"
      ]
     },
     "execution_count": 124,
     "metadata": {},
     "output_type": "execute_result"
    }
   ],
   "source": [
    "y_train[20]"
   ]
  },
  {
   "cell_type": "markdown",
   "metadata": {},
   "source": [
    "### 2. Building the model"
   ]
  },
  {
   "cell_type": "code",
   "execution_count": 125,
   "metadata": {},
   "outputs": [],
   "source": [
    "from keras import models\n",
    "from keras import layers\n",
    "\n",
    "model=models.Sequential()\n",
    "# of hidden units =16\n",
    "model.add(layers.Dense(16, activation='relu', input_shape=(10000,))) ## hidden layer1\n",
    "model.add(layers.Dense(16, activation='relu')) ## hidden layer 2\n",
    "model.add(layers.Dense(1, activation='sigmoid')) ## predict the level of emotion in reviews (0 to 1) \n"
   ]
  },
  {
   "cell_type": "markdown",
   "metadata": {},
   "source": [
    "![](ex2.png)"
   ]
  },
  {
   "cell_type": "markdown",
   "metadata": {},
   "source": [
    "### 3. Prepare Validation data"
   ]
  },
  {
   "cell_type": "code",
   "execution_count": 126,
   "metadata": {},
   "outputs": [],
   "source": [
    "x_val=x_train[:10000]\n",
    "partial_x_train=x_train[10000:]\n",
    "y_val=y_train[:10000]\n",
    "partial_y_train=y_train[10000:]"
   ]
  },
  {
   "cell_type": "markdown",
   "metadata": {},
   "source": [
    "### 4. Compiling & Training"
   ]
  },
  {
   "cell_type": "code",
   "execution_count": 127,
   "metadata": {
    "scrolled": true
   },
   "outputs": [
    {
     "name": "stdout",
     "output_type": "stream",
     "text": [
      "Epoch 1/20\n",
      "30/30 [==============================] - 10s 244ms/step - loss: 0.5891 - acc: 0.7032 - val_loss: 0.4017 - val_acc: 0.8555\n",
      "Epoch 2/20\n",
      "30/30 [==============================] - 4s 132ms/step - loss: 0.3286 - acc: 0.8987 - val_loss: 0.3093 - val_acc: 0.8850\n",
      "Epoch 3/20\n",
      "30/30 [==============================] - 3s 104ms/step - loss: 0.2280 - acc: 0.9323 - val_loss: 0.2854 - val_acc: 0.8877\n",
      "Epoch 4/20\n",
      "30/30 [==============================] - 2s 65ms/step - loss: 0.1751 - acc: 0.9485 - val_loss: 0.3159 - val_acc: 0.8720\n",
      "Epoch 5/20\n",
      "30/30 [==============================] - 1s 49ms/step - loss: 0.1435 - acc: 0.9556 - val_loss: 0.2795 - val_acc: 0.8879\n",
      "Epoch 6/20\n",
      "30/30 [==============================] - 1s 30ms/step - loss: 0.1167 - acc: 0.9685 - val_loss: 0.2899 - val_acc: 0.8860\n",
      "Epoch 7/20\n",
      "30/30 [==============================] - 1s 29ms/step - loss: 0.1005 - acc: 0.9733 - val_loss: 0.3066 - val_acc: 0.8847\n",
      "Epoch 8/20\n",
      "30/30 [==============================] - 1s 30ms/step - loss: 0.0788 - acc: 0.9806 - val_loss: 0.3244 - val_acc: 0.8817\n",
      "Epoch 9/20\n",
      "30/30 [==============================] - 1s 33ms/step - loss: 0.0632 - acc: 0.9863 - val_loss: 0.4056 - val_acc: 0.8682\n",
      "Epoch 10/20\n",
      "30/30 [==============================] - 1s 28ms/step - loss: 0.0559 - acc: 0.9883 - val_loss: 0.3662 - val_acc: 0.8806\n",
      "Epoch 11/20\n",
      "30/30 [==============================] - 1s 29ms/step - loss: 0.0439 - acc: 0.9915 - val_loss: 0.3893 - val_acc: 0.8782\n",
      "Epoch 12/20\n",
      "30/30 [==============================] - 1s 30ms/step - loss: 0.0369 - acc: 0.9937 - val_loss: 0.4268 - val_acc: 0.8723\n",
      "Epoch 13/20\n",
      "30/30 [==============================] - 1s 29ms/step - loss: 0.0270 - acc: 0.9963 - val_loss: 0.4664 - val_acc: 0.8750\n",
      "Epoch 14/20\n",
      "30/30 [==============================] - 1s 29ms/step - loss: 0.0201 - acc: 0.9976 - val_loss: 0.4802 - val_acc: 0.8702\n",
      "Epoch 15/20\n",
      "30/30 [==============================] - 1s 28ms/step - loss: 0.0151 - acc: 0.9984 - val_loss: 0.5233 - val_acc: 0.8658\n",
      "Epoch 16/20\n",
      "30/30 [==============================] - 1s 26ms/step - loss: 0.0125 - acc: 0.9990 - val_loss: 0.5485 - val_acc: 0.8725\n",
      "Epoch 17/20\n",
      "30/30 [==============================] - 1s 26ms/step - loss: 0.0095 - acc: 0.9992 - val_loss: 0.6062 - val_acc: 0.8707\n",
      "Epoch 18/20\n",
      "30/30 [==============================] - 1s 28ms/step - loss: 0.0071 - acc: 0.9995 - val_loss: 0.6236 - val_acc: 0.8703\n",
      "Epoch 19/20\n",
      "30/30 [==============================] - 1s 26ms/step - loss: 0.0044 - acc: 0.9999 - val_loss: 0.6744 - val_acc: 0.8677\n",
      "Epoch 20/20\n",
      "30/30 [==============================] - 1s 25ms/step - loss: 0.0052 - acc: 0.9993 - val_loss: 0.6893 - val_acc: 0.8668\n"
     ]
    }
   ],
   "source": [
    "model.compile(optimizer='rmsprop',\n",
    "              loss='binary_crossentropy', ## crossentrophy is the best choice when it comes to calculating the probability\n",
    "              metrics=['acc'])\n",
    "              \n",
    "history = model.fit(partial_x_train,\n",
    "                   partial_y_train,\n",
    "                   epochs=20,\n",
    "                   batch_size=512,\n",
    "                   validation_data=(x_val, y_val))\n"
   ]
  },
  {
   "cell_type": "markdown",
   "metadata": {},
   "source": [
    "##### Compiling Option: 매개변수에  자신만의 객체 전달하기"
   ]
  },
  {
   "cell_type": "code",
   "execution_count": 134,
   "metadata": {},
   "outputs": [],
   "source": [
    "##Optional\n",
    "from keras import optimizers\n",
    "from keras import losses\n",
    "from keras import metrics\n",
    "\n",
    "model.compile(optimizer=optimizers.RMSprop(lr=0.001), \n",
    "              loss=losses.binary_crossentropy,  \n",
    "              metrics=[metrics.binary_accuracy])"
   ]
  },
  {
   "cell_type": "code",
   "execution_count": 135,
   "metadata": {},
   "outputs": [
    {
     "data": {
      "text/plain": [
       "dict_keys(['loss', 'acc', 'val_loss', 'val_acc'])"
      ]
     },
     "execution_count": 135,
     "metadata": {},
     "output_type": "execute_result"
    }
   ],
   "source": [
    "history_dict=history.history\n",
    "history_dict.keys()"
   ]
  },
  {
   "cell_type": "markdown",
   "metadata": {},
   "source": [
    "### 5.1) Plotting training and validation loss"
   ]
  },
  {
   "cell_type": "code",
   "execution_count": 137,
   "metadata": {},
   "outputs": [
    {
     "data": {
      "image/png": "[encoded data removed]",
      "text/plain": [
       "<Figure size 432x288 with 1 Axes>"
      ]
     },
     "metadata": {
      "needs_background": "light"
     },
     "output_type": "display_data"
    }
   ],
   "source": [
    "import matplotlib.pyplot as plt\n",
    "\n",
    "history_dict=history.history\n",
    "loss=history_dict['loss']\n",
    "val_loss=history_dict['val_loss']\n",
    "\n",
    "epochs= range(1, len(loss)+1)\n",
    "\n",
    "plt.plot(epochs, loss, 'bo', label='Training loss')\n",
    "plt.plot(epochs, val_loss, 'b', label='Validation loss')\n",
    "plt.title('Training and validation loss')\n",
    "plt.xlabel('Epochs')\n",
    "plt.ylabel('Loss')\n",
    "plt.legend()\n",
    "\n",
    "plt.show()"
   ]
  },
  {
   "cell_type": "markdown",
   "metadata": {},
   "source": [
    "### 5.3) Plotting Training and validation accuracy"
   ]
  },
  {
   "cell_type": "code",
   "execution_count": 140,
   "metadata": {},
   "outputs": [
    {
     "data": {
      "text/plain": [
       "<matplotlib.legend.Legend at 0x1b897075910>"
      ]
     },
     "execution_count": 140,
     "metadata": {},
     "output_type": "execute_result"
    },
    {
     "data": {
      "image/png": "[encoded data removed]",
      "text/plain": [
       "<Figure size 432x288 with 1 Axes>"
      ]
     },
     "metadata": {
      "needs_background": "light"
     },
     "output_type": "display_data"
    }
   ],
   "source": [
    "plt.clf()\n",
    "acc=history_dict['acc']\n",
    "val_acc=history_dict['val_acc']\n",
    "\n",
    "plt.plot(epochs,acc,'bo',label='Training acc')\n",
    "plt.plot(epochs,val_acc,'b',label='Validation acc')\n",
    "plt.title('Training and validation accuracy')\n",
    "plt.xlabel('Epochs')\n",
    "plt.ylabel('Accuracy')\n",
    "plt.legend()\n"
   ]
  },
  {
   "cell_type": "markdown",
   "metadata": {},
   "source": [
    "### 6. Retraining the model to prevent overfitting"
   ]
  },
  {
   "cell_type": "code",
   "execution_count": 141,
   "metadata": {
    "scrolled": true
   },
   "outputs": [
    {
     "name": "stdout",
     "output_type": "stream",
     "text": [
      "Epoch 1/4\n",
      "49/49 [==============================] - 6s 18ms/step - loss: 0.5525 - accuracy: 0.7355\n",
      "Epoch 2/4\n",
      "49/49 [==============================] - 1s 21ms/step - loss: 0.2714 - accuracy: 0.9082\n",
      "Epoch 3/4\n",
      "49/49 [==============================] - 1s 19ms/step - loss: 0.2042 - accuracy: 0.9306\n",
      "Epoch 4/4\n",
      "49/49 [==============================] - 1s 18ms/step - loss: 0.1661 - accuracy: 0.9429\n",
      "782/782 [==============================] - 2s 2ms/step - loss: 0.2939 - accuracy: 0.8834\n"
     ]
    }
   ],
   "source": [
    "model=models.Sequential()\n",
    "model.add(layers.Dense(16, activation='relu', input_shape=(10000,)))\n",
    "model.add(layers.Dense(16, activation='relu'))\n",
    "model.add(layers.Dense(1, activation='sigmoid'))\n",
    "\n",
    "model.compile(optimizer='rmsprop',\n",
    "              loss='binary_crossentropy',\n",
    "              metrics=['accuracy'])\n",
    "\n",
    "model.fit(x_train, y_train, epochs=4, batch_size=512)\n",
    "results=model.evaluate(x_test,y_test)\n"
   ]
  },
  {
   "cell_type": "code",
   "execution_count": 142,
   "metadata": {},
   "outputs": [
    {
     "data": {
      "text/plain": [
       "[0.2938579022884369, 0.8833600282669067]"
      ]
     },
     "execution_count": 142,
     "metadata": {},
     "output_type": "execute_result"
    }
   ],
   "source": [
    "results"
   ]
  },
  {
   "cell_type": "code",
   "execution_count": 143,
   "metadata": {},
   "outputs": [
    {
     "data": {
      "text/plain": [
       "array([[0.19708532],\n",
       "       [0.99930024],\n",
       "       [0.93248165],\n",
       "       ...,\n",
       "       [0.14394116],\n",
       "       [0.07909048],\n",
       "       [0.64218986]], dtype=float32)"
      ]
     },
     "execution_count": 143,
     "metadata": {},
     "output_type": "execute_result"
    }
   ],
   "source": [
    "model.predict(x_test)"
   ]
  },
  {
   "cell_type": "markdown",
   "metadata": {},
   "source": [
    "## 3.5 Multiple classification"
   ]
  },
  {
   "cell_type": "code",
   "execution_count": 1,
   "metadata": {},
   "outputs": [
    {
     "name": "stderr",
     "output_type": "stream",
     "text": [
      "C:\\Users\\user\\anaconda3\\lib\\site-packages\\tensorflow\\python\\keras\\datasets\\reuters.py:148: VisibleDeprecationWarning: Creating an ndarray from ragged nested sequences (which is a list-or-tuple of lists-or-tuples-or ndarrays with different lengths or shapes) is deprecated. If you meant to do this, you must specify 'dtype=object' when creating the ndarray\n",
      "  x_train, y_train = np.array(xs[:idx]), np.array(labels[:idx])\n",
      "C:\\Users\\user\\anaconda3\\lib\\site-packages\\tensorflow\\python\\keras\\datasets\\reuters.py:149: VisibleDeprecationWarning: Creating an ndarray from ragged nested sequences (which is a list-or-tuple of lists-or-tuples-or ndarrays with different lengths or shapes) is deprecated. If you meant to do this, you must specify 'dtype=object' when creating the ndarray\n",
      "  x_test, y_test = np.array(xs[idx:]), np.array(labels[idx:])\n"
     ]
    }
   ],
   "source": [
    "from keras.datasets import reuters\n",
    "\n",
    "(train_data, train_labels), (test_data, test_labels) = reuters.load_data(num_words= 10000)"
   ]
  },
  {
   "cell_type": "code",
   "execution_count": 146,
   "metadata": {},
   "outputs": [
    {
     "data": {
      "text/plain": [
       "8982"
      ]
     },
     "execution_count": 146,
     "metadata": {},
     "output_type": "execute_result"
    }
   ],
   "source": [
    "len(train_data)"
   ]
  },
  {
   "cell_type": "code",
   "execution_count": 147,
   "metadata": {
    "scrolled": false
   },
   "outputs": [
    {
     "data": {
      "text/plain": [
       "2246"
      ]
     },
     "execution_count": 147,
     "metadata": {},
     "output_type": "execute_result"
    }
   ],
   "source": [
    "len(test_data)"
   ]
  },
  {
   "cell_type": "code",
   "execution_count": 3,
   "metadata": {},
   "outputs": [
    {
     "data": {
      "text/plain": [
       "[1,\n",
       " 245,\n",
       " 273,\n",
       " 207,\n",
       " 156,\n",
       " 53,\n",
       " 74,\n",
       " 160,\n",
       " 26,\n",
       " 14,\n",
       " 46,\n",
       " 296,\n",
       " 26,\n",
       " 39,\n",
       " 74,\n",
       " 2979,\n",
       " 3554,\n",
       " 14,\n",
       " 46,\n",
       " 4689,\n",
       " 4329,\n",
       " 86,\n",
       " 61,\n",
       " 3499,\n",
       " 4795,\n",
       " 14,\n",
       " 61,\n",
       " 451,\n",
       " 4329,\n",
       " 17,\n",
       " 12]"
      ]
     },
     "execution_count": 3,
     "metadata": {},
     "output_type": "execute_result"
    }
   ],
   "source": [
    "train_data[10]"
   ]
  },
  {
   "cell_type": "code",
   "execution_count": 8,
   "metadata": {},
   "outputs": [],
   "source": [
    "word_index = reuters.get_word_index()\n",
    "reverse_word_index = dict([(value, key) for (key, value) in word_index.items()])\n",
    "decoded_newswire = ' '.join([reverse_word_index.get(i-3,'?') for i in train_data[0]])"
   ]
  },
  {
   "cell_type": "code",
   "execution_count": 9,
   "metadata": {
    "scrolled": true
   },
   "outputs": [
    {
     "data": {
      "text/plain": [
       "'the'"
      ]
     },
     "execution_count": 9,
     "metadata": {},
     "output_type": "execute_result"
    }
   ],
   "source": [
    "reverse_word_index.get(1)"
   ]
  },
  {
   "cell_type": "code",
   "execution_count": 10,
   "metadata": {
    "scrolled": true
   },
   "outputs": [
    {
     "data": {
      "text/plain": [
       "'? ? ? said as a result of its december acquisition of space co it expects earnings per share in 1987 of 1 15 to 1 30 dlrs per share up from 70 cts in 1986 the company said pretax net should rise to nine to 10 mln dlrs from six mln dlrs in 1986 and rental operation revenues to 19 to 22 mln dlrs from 12 5 mln dlrs it said cash flow per share this year should be 2 50 to three dlrs reuter 3'"
      ]
     },
     "execution_count": 10,
     "metadata": {},
     "output_type": "execute_result"
    }
   ],
   "source": [
    "decoded_newswire"
   ]
  },
  {
   "cell_type": "code",
   "execution_count": 11,
   "metadata": {},
   "outputs": [
    {
     "data": {
      "text/plain": [
       "4"
      ]
     },
     "execution_count": 11,
     "metadata": {},
     "output_type": "execute_result"
    }
   ],
   "source": [
    "train_labels[90]"
   ]
  },
  {
   "cell_type": "markdown",
   "metadata": {},
   "source": [
    "### 3.5.2 Data"
   ]
  },
  {
   "cell_type": "code",
   "execution_count": 133,
   "metadata": {},
   "outputs": [],
   "source": [
    "import numpy as np\n",
    "\n",
    "def vectorize_sequences (sequences, dimension = 10000):\n",
    "    results = np.zeros((len(sequences), dimension))\n",
    "    for i, sequence in enumerate(sequences):\n",
    "        results[i, sequence]=1.\n",
    "        return results"
   ]
  },
  {
   "cell_type": "code",
   "execution_count": 134,
   "metadata": {},
   "outputs": [],
   "source": [
    "x_train = vectorize_sequences(train_data)\n",
    "x_test = vectorize_sequences(test_data)"
   ]
  },
  {
   "cell_type": "markdown",
   "metadata": {},
   "source": [
    "#### one_hot encoding"
   ]
  },
  {
   "cell_type": "code",
   "execution_count": 135,
   "metadata": {},
   "outputs": [],
   "source": [
    "def to_one_hot(labels, dimension = 46):\n",
    "    results=np.zeros((len(labels), dimension))\n",
    "    for i, label in enumerate(labels):\n",
    "        results[i, label]=1.\n",
    "    return results"
   ]
  },
  {
   "cell_type": "code",
   "execution_count": 136,
   "metadata": {},
   "outputs": [],
   "source": [
    "one_hot_train_labels = to_one_hot(train_labels)\n",
    "one_hot_test_labels = to_one_hot(test_labels)"
   ]
  },
  {
   "cell_type": "markdown",
   "metadata": {},
   "source": [
    "#### use functions in keras"
   ]
  },
  {
   "cell_type": "code",
   "execution_count": 137,
   "metadata": {},
   "outputs": [],
   "source": [
    "from keras.utils.np_utils import to_categorical"
   ]
  },
  {
   "cell_type": "code",
   "execution_count": 138,
   "metadata": {},
   "outputs": [],
   "source": [
    "one_hot_train_labels = to_categorical(train_labels)\n",
    "one_hot_test_labes = to_categorical(test_labels)"
   ]
  },
  {
   "cell_type": "markdown",
   "metadata": {},
   "source": [
    "### 3.5.3 Model"
   ]
  },
  {
   "cell_type": "code",
   "execution_count": 139,
   "metadata": {},
   "outputs": [],
   "source": [
    "from keras import models \n",
    "from keras import layers\n",
    "\n",
    "model = models.Sequential()\n",
    "model.add(layers.Dense(64, activation = 'relu', input_shape=(10000,)))\n",
    "model.add(layers.Dense(64, activation = 'relu'))\n",
    "model.add(layers.Dense(46, activation= 'softmax'))"
   ]
  },
  {
   "cell_type": "code",
   "execution_count": 140,
   "metadata": {},
   "outputs": [],
   "source": [
    "model.compile(optimizer='rmsprop',\n",
    "             loss = 'categorical_crossentropy',\n",
    "             metrics = ['accuracy'])"
   ]
  },
  {
   "cell_type": "markdown",
   "metadata": {},
   "source": [
    "#### ReLU function\n",
    "\n",
    "$ h(x) = \\begin{cases} x, & \\mbox{if }x\\mbox{>0} \\\\ 0, & \\mbox{if} x\\mbox{ $\\le$ 0}\\end{cases} $\n",
    "\n",
    "- ReLU shows the value if the input is bigger than zero, otherwise shows zero\n",
    "\n",
    "- It is one of the activation functions (a function that converts the sum of the input signals into an output signal) and plays a role in determining whether the sum of the input signals causes activation."
   ]
  },
  {
   "cell_type": "markdown",
   "metadata": {},
   "source": [
    "#### Softmax function\n",
    "\n",
    "$y_k = {exp(a_k) \\over \\sum_{i=1}^n exp(a_i)} $\n",
    "\n",
    "- 0<output of softmax<1\n",
    "- The sum of output = 1\n",
    "- Can be inferred as 'probability'"
   ]
  },
  {
   "cell_type": "code",
   "execution_count": 160,
   "metadata": {},
   "outputs": [],
   "source": [
    "model.compile(optimizer='rmsprop',\n",
    "             loss = 'categorical_crossentropy',\n",
    "             metrics = ['accuracy'])"
   ]
  },
  {
   "cell_type": "markdown",
   "metadata": {},
   "source": [
    "#### Cross entropy Loss\n",
    "\n",
    "$E = - \\sum_k t_k log(y_k) $\n",
    "\n",
    "- $y_k$ 는 신경망의 출력, $t_k$는 정답 레이블 (1또는 0 : 원-핫 인코딩)\n",
    "\n",
    "- 정답일 때의 추정($t_k$가 1일 때의 $y_k$)의 자연로그를 계산하는 식\n",
    "\n",
    "- 정답일 때의 출력이 작아질수록 오차는 커짐 "
   ]
  },
  {
   "cell_type": "markdown",
   "metadata": {},
   "source": [
    "### 3.5.4 Validation"
   ]
  },
  {
   "cell_type": "code",
   "execution_count": 161,
   "metadata": {},
   "outputs": [],
   "source": [
    "x_val = x_train[:1000]\n",
    "partial_x_train = x_train[1000:]\n",
    "\n",
    "y_val = one_hot_train_labels[:1000]\n",
    "partial_y_train= one_hot_train_labels[1000:]"
   ]
  },
  {
   "cell_type": "code",
   "execution_count": 162,
   "metadata": {},
   "outputs": [
    {
     "name": "stdout",
     "output_type": "stream",
     "text": [
      "Epoch 1/20\n",
      "16/16 [==============================] - 1s 29ms/step - loss: 3.3153 - accuracy: 0.3347 - val_loss: 1.8794 - val_accuracy: 0.6260\n",
      "Epoch 2/20\n",
      "16/16 [==============================] - 0s 19ms/step - loss: 1.6389 - accuracy: 0.6701 - val_loss: 1.3408 - val_accuracy: 0.7090\n",
      "Epoch 3/20\n",
      "16/16 [==============================] - 0s 19ms/step - loss: 1.1373 - accuracy: 0.7643 - val_loss: 1.1647 - val_accuracy: 0.7460\n",
      "Epoch 4/20\n",
      "16/16 [==============================] - 0s 18ms/step - loss: 0.8876 - accuracy: 0.8145 - val_loss: 1.0535 - val_accuracy: 0.7760\n",
      "Epoch 5/20\n",
      "16/16 [==============================] - 0s 19ms/step - loss: 0.6872 - accuracy: 0.8561 - val_loss: 0.9737 - val_accuracy: 0.8070\n",
      "Epoch 6/20\n",
      "16/16 [==============================] - 0s 18ms/step - loss: 0.5791 - accuracy: 0.8823 - val_loss: 0.9450 - val_accuracy: 0.8110\n",
      "Epoch 7/20\n",
      "16/16 [==============================] - 0s 19ms/step - loss: 0.4462 - accuracy: 0.9093 - val_loss: 0.9202 - val_accuracy: 0.8090\n",
      "Epoch 8/20\n",
      "16/16 [==============================] - 0s 19ms/step - loss: 0.3654 - accuracy: 0.9235 - val_loss: 0.9198 - val_accuracy: 0.8130\n",
      "Epoch 9/20\n",
      "16/16 [==============================] - 0s 19ms/step - loss: 0.2944 - accuracy: 0.9359 - val_loss: 0.9641 - val_accuracy: 0.7980\n",
      "Epoch 10/20\n",
      "16/16 [==============================] - 0s 21ms/step - loss: 0.2479 - accuracy: 0.9428 - val_loss: 0.9347 - val_accuracy: 0.8100\n",
      "Epoch 11/20\n",
      "16/16 [==============================] - 0s 25ms/step - loss: 0.2079 - accuracy: 0.9523 - val_loss: 0.9158 - val_accuracy: 0.8160\n",
      "Epoch 12/20\n",
      "16/16 [==============================] - 0s 26ms/step - loss: 0.1756 - accuracy: 0.9566 - val_loss: 0.9434 - val_accuracy: 0.8170\n",
      "Epoch 13/20\n",
      "16/16 [==============================] - 0s 21ms/step - loss: 0.1583 - accuracy: 0.9578 - val_loss: 0.9936 - val_accuracy: 0.8000\n",
      "Epoch 14/20\n",
      "16/16 [==============================] - 0s 21ms/step - loss: 0.1426 - accuracy: 0.9587 - val_loss: 1.0030 - val_accuracy: 0.7960\n",
      "Epoch 15/20\n",
      "16/16 [==============================] - 0s 23ms/step - loss: 0.1351 - accuracy: 0.9565 - val_loss: 0.9973 - val_accuracy: 0.8010\n",
      "Epoch 16/20\n",
      "16/16 [==============================] - 0s 23ms/step - loss: 0.1224 - accuracy: 0.9582 - val_loss: 1.0211 - val_accuracy: 0.7970\n",
      "Epoch 17/20\n",
      "16/16 [==============================] - 0s 19ms/step - loss: 0.1174 - accuracy: 0.9567 - val_loss: 1.0263 - val_accuracy: 0.8110\n",
      "Epoch 18/20\n",
      "16/16 [==============================] - 0s 25ms/step - loss: 0.1223 - accuracy: 0.9576 - val_loss: 1.0586 - val_accuracy: 0.8080\n",
      "Epoch 19/20\n",
      "16/16 [==============================] - 0s 19ms/step - loss: 0.1083 - accuracy: 0.9603 - val_loss: 1.0552 - val_accuracy: 0.8080\n",
      "Epoch 20/20\n",
      "16/16 [==============================] - 0s 19ms/step - loss: 0.1006 - accuracy: 0.9638 - val_loss: 1.0933 - val_accuracy: 0.8090\n"
     ]
    }
   ],
   "source": [
    "history= model.fit(partial_x_train,\n",
    "                  partial_y_train,\n",
    "                  epochs=20,\n",
    "                  batch_size = 512,\n",
    "                  validation_data = (x_val, y_val))"
   ]
  },
  {
   "cell_type": "code",
   "execution_count": 163,
   "metadata": {},
   "outputs": [
    {
     "data": {
      "text/plain": [
       "dict_keys(['loss', 'accuracy', 'val_loss', 'val_accuracy'])"
      ]
     },
     "execution_count": 163,
     "metadata": {},
     "output_type": "execute_result"
    }
   ],
   "source": [
    "history_dict= history.history\n",
    "history_dict.keys()"
   ]
  },
  {
   "cell_type": "code",
   "execution_count": 164,
   "metadata": {},
   "outputs": [
    {
     "data": {
      "image/png": "[encoded data removed]",
      "text/plain": [
       "<Figure size 432x288 with 1 Axes>"
      ]
     },
     "metadata": {
      "needs_background": "light"
     },
     "output_type": "display_data"
    }
   ],
   "source": [
    "import matplotlib.pyplot as plt\n",
    "\n",
    "loss = history.history['loss']\n",
    "val_loss = history.history['val_loss']\n",
    "\n",
    "epochs = range(1, len(loss) + 1)\n",
    "\n",
    "plt.plot(epochs, loss, 'bo', label = 'Training loss')\n",
    "plt.plot(epochs, val_loss, 'b', label= 'Validation loss')\n",
    "plt.title('Training and validation loss')\n",
    "plt.xlabel('Epochs')\n",
    "plt.ylabel('Loss')\n",
    "plt.legend()\n",
    "\n",
    "plt.show()"
   ]
  },
  {
   "cell_type": "code",
   "execution_count": 165,
   "metadata": {},
   "outputs": [
    {
     "data": {
      "text/plain": [
       "<Figure size 432x288 with 0 Axes>"
      ]
     },
     "metadata": {},
     "output_type": "display_data"
    }
   ],
   "source": [
    "plt.clf()"
   ]
  },
  {
   "cell_type": "code",
   "execution_count": 166,
   "metadata": {},
   "outputs": [
    {
     "data": {
      "image/png": "[encoded data removed]",
      "text/plain": [
       "<Figure size 432x288 with 1 Axes>"
      ]
     },
     "metadata": {
      "needs_background": "light"
     },
     "output_type": "display_data"
    }
   ],
   "source": [
    "acc = history.history['accuracy']\n",
    "val_acc = history.history['val_accuracy']\n",
    "\n",
    "plt.plot(epochs, acc, 'bo', label = 'Training acc')\n",
    "plt.plot(epochs, val_acc, 'b', label = 'Validation acc')\n",
    "plt.xlabel('Epochs')\n",
    "plt.ylabel('Accuracy')\n",
    "plt.legend()\n",
    "\n",
    "plt.show()"
   ]
  },
  {
   "cell_type": "markdown",
   "metadata": {},
   "source": [
    "## Overfitting problem\n",
    "\n",
    "- 한 데이터셋에만 지나치게 최적화된 상태\n",
    "- 훈련 데이터에서는 잘 되지만 실제 시험 데이터에서는 제대로 학습과 평가를 수행하지 못하는 문제 발생\n"
   ]
  },
  {
   "cell_type": "markdown",
   "metadata": {},
   "source": [
    "#### 모델을 처음부터 다시 훈련하기"
   ]
  },
  {
   "cell_type": "code",
   "execution_count": 169,
   "metadata": {},
   "outputs": [],
   "source": [
    "model = models.Sequential()\n",
    "model.add(layers.Dense(64, activation = 'relu', input_shape = (10000,)))\n",
    "model.add(layers.Dense(64, activation = 'relu'))\n",
    "model.add(layers.Dense(46, activation = 'softmax'))"
   ]
  },
  {
   "cell_type": "code",
   "execution_count": 171,
   "metadata": {},
   "outputs": [],
   "source": [
    "model.compile(optimizer = 'rmsprop',\n",
    "             loss= 'categorical_crossentropy',\n",
    "             metrics = ['accuracy'])"
   ]
  },
  {
   "cell_type": "code",
   "execution_count": 172,
   "metadata": {},
   "outputs": [
    {
     "name": "stdout",
     "output_type": "stream",
     "text": [
      "Epoch 1/9\n",
      "16/16 [==============================] - 1s 31ms/step - loss: 3.2142 - accuracy: 0.3680 - val_loss: 1.7552 - val_accuracy: 0.6400\n",
      "Epoch 2/9\n",
      "16/16 [==============================] - 0s 25ms/step - loss: 1.5244 - accuracy: 0.6921 - val_loss: 1.2831 - val_accuracy: 0.7160\n",
      "Epoch 3/9\n",
      "16/16 [==============================] - 0s 19ms/step - loss: 1.0814 - accuracy: 0.7710 - val_loss: 1.1154 - val_accuracy: 0.7500\n",
      "Epoch 4/9\n",
      "16/16 [==============================] - 0s 20ms/step - loss: 0.8337 - accuracy: 0.8251 - val_loss: 1.0010 - val_accuracy: 0.8030\n",
      "Epoch 5/9\n",
      "16/16 [==============================] - 0s 21ms/step - loss: 0.6692 - accuracy: 0.8675 - val_loss: 0.9685 - val_accuracy: 0.7900\n",
      "Epoch 6/9\n",
      "16/16 [==============================] - 0s 18ms/step - loss: 0.5100 - accuracy: 0.8987 - val_loss: 0.9092 - val_accuracy: 0.8000\n",
      "Epoch 7/9\n",
      "16/16 [==============================] - 0s 18ms/step - loss: 0.4055 - accuracy: 0.9188 - val_loss: 0.8765 - val_accuracy: 0.8150\n",
      "Epoch 8/9\n",
      "16/16 [==============================] - 0s 19ms/step - loss: 0.3235 - accuracy: 0.9330 - val_loss: 0.8666 - val_accuracy: 0.8240\n",
      "Epoch 9/9\n",
      "16/16 [==============================] - 0s 19ms/step - loss: 0.2659 - accuracy: 0.9423 - val_loss: 0.8964 - val_accuracy: 0.8120\n",
      "71/71 [==============================] - 0s 1ms/step - loss: 1.0104 - accuracy: 0.7858\n"
     ]
    }
   ],
   "source": [
    "model.fit(partial_x_train,\n",
    "         partial_y_train,\n",
    "         epochs=9,\n",
    "         batch_size = 512,\n",
    "         validation_data = (x_val, y_val))"
   ]
  },
  {
   "cell_type": "code",
   "execution_count": 173,
   "metadata": {},
   "outputs": [
    {
     "name": "stdout",
     "output_type": "stream",
     "text": [
      "71/71 [==============================] - 0s 1ms/step - loss: 1.0104 - accuracy: 0.7858\n"
     ]
    }
   ],
   "source": [
    "results = model.evaluate(x_test, one_hot_test_labels)"
   ]
  },
  {
   "cell_type": "code",
   "execution_count": 174,
   "metadata": {},
   "outputs": [
    {
     "name": "stdout",
     "output_type": "stream",
     "text": [
      "[1.0103936195373535, 0.7858415246009827]\n"
     ]
    }
   ],
   "source": [
    "print(results)"
   ]
  },
  {
   "cell_type": "markdown",
   "metadata": {},
   "source": [
    "#### 무작위로 분류하는 경우"
   ]
  },
  {
   "cell_type": "code",
   "execution_count": 175,
   "metadata": {},
   "outputs": [
    {
     "data": {
      "text/plain": [
       "0.1834372217275156"
      ]
     },
     "execution_count": 175,
     "metadata": {},
     "output_type": "execute_result"
    }
   ],
   "source": [
    "import copy\n",
    "test_labels_copy = copy.copy(test_labels)\n",
    "np.random.shuffle(test_labels_copy)\n",
    "hits_array= np.array(test_labels) == np.array(test_labels_copy)\n",
    "float(np.sum(hits_array))/len(test_labels)"
   ]
  },
  {
   "cell_type": "markdown",
   "metadata": {},
   "source": [
    "### 3.5.5 새로운 데이터에 대해 예측하기"
   ]
  },
  {
   "cell_type": "code",
   "execution_count": 176,
   "metadata": {},
   "outputs": [],
   "source": [
    "predictions = model.predict(x_test) #확률분포를 반환"
   ]
  },
  {
   "cell_type": "code",
   "execution_count": 181,
   "metadata": {},
   "outputs": [
    {
     "data": {
      "text/plain": [
       "(46,)"
      ]
     },
     "execution_count": 181,
     "metadata": {},
     "output_type": "execute_result"
    }
   ],
   "source": [
    "predictions[0].shape"
   ]
  },
  {
   "cell_type": "code",
   "execution_count": 183,
   "metadata": {},
   "outputs": [
    {
     "data": {
      "text/plain": [
       "0.9999998"
      ]
     },
     "execution_count": 183,
     "metadata": {},
     "output_type": "execute_result"
    }
   ],
   "source": [
    "np.sum(predictions[0])"
   ]
  },
  {
   "cell_type": "code",
   "execution_count": 184,
   "metadata": {},
   "outputs": [
    {
     "data": {
      "text/plain": [
       "3"
      ]
     },
     "execution_count": 184,
     "metadata": {},
     "output_type": "execute_result"
    }
   ],
   "source": [
    "np.argmax(predictions[0])"
   ]
  },
  {
   "cell_type": "markdown",
   "metadata": {},
   "source": [
    "### 3.5.6 레이블과 손실을 다루는 다른 방법"
   ]
  },
  {
   "cell_type": "code",
   "execution_count": 185,
   "metadata": {},
   "outputs": [],
   "source": [
    "y_train= np.array(train_labels)\n",
    "y_test= np.array(test_labels)"
   ]
  },
  {
   "cell_type": "code",
   "execution_count": 186,
   "metadata": {},
   "outputs": [],
   "source": [
    "model.compile(optimizer='rmsprop',\n",
    "             loss = 'sparse_categorical_crossentropy', # 정수 레이블을 사용할 때\n",
    "             metrics=['acc'])"
   ]
  },
  {
   "cell_type": "markdown",
   "metadata": {},
   "source": [
    "### 3.5.7 충분히 큰 중간층을 두어야 하는 이유"
   ]
  },
  {
   "cell_type": "code",
   "execution_count": 196,
   "metadata": {},
   "outputs": [],
   "source": [
    "model = models.Sequential()\n",
    "model.add(layers.Dense(64, activation='relu', input_shape = (10000,)))\n",
    "model.add(layers.Dense(4, activation='relu'))\n",
    "model.add(layers.Dense(46, activation='softmax'))"
   ]
  },
  {
   "cell_type": "code",
   "execution_count": 201,
   "metadata": {},
   "outputs": [],
   "source": [
    "model.compile(optimizer='rmsprop',\n",
    "             loss='categorical_crossentropy',\n",
    "             metrics=['accuracy'])"
   ]
  },
  {
   "cell_type": "code",
   "execution_count": 202,
   "metadata": {},
   "outputs": [
    {
     "name": "stdout",
     "output_type": "stream",
     "text": [
      "Epoch 1/20\n",
      "63/63 [==============================] - 1s 11ms/step - loss: 3.0853 - accuracy: 0.3633 - val_loss: 1.8504 - val_accuracy: 0.5810\n",
      "Epoch 2/20\n",
      "63/63 [==============================] - 0s 8ms/step - loss: 1.6699 - accuracy: 0.6017 - val_loss: 1.4887 - val_accuracy: 0.6210\n",
      "Epoch 3/20\n",
      "63/63 [==============================] - 0s 8ms/step - loss: 1.3302 - accuracy: 0.6635 - val_loss: 1.3696 - val_accuracy: 0.6690\n",
      "Epoch 4/20\n",
      "63/63 [==============================] - 0s 7ms/step - loss: 1.1090 - accuracy: 0.7213 - val_loss: 1.3145 - val_accuracy: 0.6780\n",
      "Epoch 5/20\n",
      "63/63 [==============================] - 0s 8ms/step - loss: 0.9933 - accuracy: 0.7404 - val_loss: 1.2793 - val_accuracy: 0.6910\n",
      "Epoch 6/20\n",
      "63/63 [==============================] - 0s 8ms/step - loss: 0.9129 - accuracy: 0.7631 - val_loss: 1.2889 - val_accuracy: 0.6950\n",
      "Epoch 7/20\n",
      "63/63 [==============================] - 0s 8ms/step - loss: 0.8203 - accuracy: 0.7843 - val_loss: 1.2857 - val_accuracy: 0.7110\n",
      "Epoch 8/20\n",
      "63/63 [==============================] - 0s 8ms/step - loss: 0.7742 - accuracy: 0.8035 - val_loss: 1.3304 - val_accuracy: 0.7070\n",
      "Epoch 9/20\n",
      "63/63 [==============================] - 0s 8ms/step - loss: 0.6968 - accuracy: 0.8181 - val_loss: 1.3831 - val_accuracy: 0.7040\n",
      "Epoch 10/20\n",
      "63/63 [==============================] - 0s 8ms/step - loss: 0.6713 - accuracy: 0.8283 - val_loss: 1.3653 - val_accuracy: 0.7080\n",
      "Epoch 11/20\n",
      "63/63 [==============================] - 1s 9ms/step - loss: 0.6098 - accuracy: 0.8325 - val_loss: 1.3835 - val_accuracy: 0.7090\n",
      "Epoch 12/20\n",
      "63/63 [==============================] - 1s 9ms/step - loss: 0.5852 - accuracy: 0.8336 - val_loss: 1.4345 - val_accuracy: 0.7100\n",
      "Epoch 13/20\n",
      "63/63 [==============================] - 1s 8ms/step - loss: 0.5611 - accuracy: 0.8359 - val_loss: 1.4547 - val_accuracy: 0.7060\n",
      "Epoch 14/20\n",
      "63/63 [==============================] - 1s 8ms/step - loss: 0.5229 - accuracy: 0.8426 - val_loss: 1.5230 - val_accuracy: 0.7030\n",
      "Epoch 15/20\n",
      "63/63 [==============================] - 1s 8ms/step - loss: 0.4792 - accuracy: 0.8564 - val_loss: 1.5767 - val_accuracy: 0.7130\n",
      "Epoch 16/20\n",
      "63/63 [==============================] - 1s 8ms/step - loss: 0.4608 - accuracy: 0.8631 - val_loss: 1.6202 - val_accuracy: 0.7120\n",
      "Epoch 17/20\n",
      "63/63 [==============================] - 1s 8ms/step - loss: 0.4356 - accuracy: 0.8671 - val_loss: 1.5945 - val_accuracy: 0.7120\n",
      "Epoch 18/20\n",
      "63/63 [==============================] - 0s 8ms/step - loss: 0.4083 - accuracy: 0.8706 - val_loss: 1.7190 - val_accuracy: 0.7100\n",
      "Epoch 19/20\n",
      "63/63 [==============================] - 1s 9ms/step - loss: 0.4041 - accuracy: 0.8746 - val_loss: 1.7405 - val_accuracy: 0.7080\n",
      "Epoch 20/20\n",
      "63/63 [==============================] - 1s 8ms/step - loss: 0.3934 - accuracy: 0.8814 - val_loss: 1.7882 - val_accuracy: 0.7090\n"
     ]
    },
    {
     "data": {
      "text/plain": [
       "<tensorflow.python.keras.callbacks.History at 0x7f8072088250>"
      ]
     },
     "execution_count": 202,
     "metadata": {},
     "output_type": "execute_result"
    }
   ],
   "source": [
    "model.fit(partial_x_train,\n",
    "         partial_y_train,\n",
    "         epochs=20,\n",
    "         batch_size=128,\n",
    "         validation_data=(x_val, y_val))"
   ]
  },
  {
   "cell_type": "markdown",
   "metadata": {},
   "source": [
    "## 3.6 주택 가격 예측 : 회귀 문제"
   ]
  },
  {
   "cell_type": "code",
   "execution_count": 203,
   "metadata": {},
   "outputs": [],
   "source": [
    "from keras.datasets import boston_housing"
   ]
  },
  {
   "cell_type": "code",
   "execution_count": 204,
   "metadata": {},
   "outputs": [
    {
     "name": "stdout",
     "output_type": "stream",
     "text": [
      "Downloading data from https://storage.googleapis.com/tensorflow/tf-keras-datasets/boston_housing.npz\n",
      "57344/57026 [==============================] - 0s 1us/step\n"
     ]
    }
   ],
   "source": [
    "(train_data, train_targets), (test_data, test_targets) = boston_housing.load_data()"
   ]
  },
  {
   "cell_type": "code",
   "execution_count": 205,
   "metadata": {},
   "outputs": [
    {
     "data": {
      "text/plain": [
       "(404, 13)"
      ]
     },
     "execution_count": 205,
     "metadata": {},
     "output_type": "execute_result"
    }
   ],
   "source": [
    "train_data.shape"
   ]
  },
  {
   "cell_type": "code",
   "execution_count": 206,
   "metadata": {},
   "outputs": [
    {
     "data": {
      "text/plain": [
       "(102, 13)"
      ]
     },
     "execution_count": 206,
     "metadata": {},
     "output_type": "execute_result"
    }
   ],
   "source": [
    "test_data.shape"
   ]
  },
  {
   "cell_type": "code",
   "execution_count": 207,
   "metadata": {},
   "outputs": [
    {
     "data": {
      "text/plain": [
       "array([15.2, 42.3, 50. , 21.1, 17.7, 18.5, 11.3, 15.6, 15.6, 14.4, 12.1,\n",
       "       17.9, 23.1, 19.9, 15.7,  8.8, 50. , 22.5, 24.1, 27.5, 10.9, 30.8,\n",
       "       32.9, 24. , 18.5, 13.3, 22.9, 34.7, 16.6, 17.5, 22.3, 16.1, 14.9,\n",
       "       23.1, 34.9, 25. , 13.9, 13.1, 20.4, 20. , 15.2, 24.7, 22.2, 16.7,\n",
       "       12.7, 15.6, 18.4, 21. , 30.1, 15.1, 18.7,  9.6, 31.5, 24.8, 19.1,\n",
       "       22. , 14.5, 11. , 32. , 29.4, 20.3, 24.4, 14.6, 19.5, 14.1, 14.3,\n",
       "       15.6, 10.5,  6.3, 19.3, 19.3, 13.4, 36.4, 17.8, 13.5, 16.5,  8.3,\n",
       "       14.3, 16. , 13.4, 28.6, 43.5, 20.2, 22. , 23. , 20.7, 12.5, 48.5,\n",
       "       14.6, 13.4, 23.7, 50. , 21.7, 39.8, 38.7, 22.2, 34.9, 22.5, 31.1,\n",
       "       28.7, 46. , 41.7, 21. , 26.6, 15. , 24.4, 13.3, 21.2, 11.7, 21.7,\n",
       "       19.4, 50. , 22.8, 19.7, 24.7, 36.2, 14.2, 18.9, 18.3, 20.6, 24.6,\n",
       "       18.2,  8.7, 44. , 10.4, 13.2, 21.2, 37. , 30.7, 22.9, 20. , 19.3,\n",
       "       31.7, 32. , 23.1, 18.8, 10.9, 50. , 19.6,  5. , 14.4, 19.8, 13.8,\n",
       "       19.6, 23.9, 24.5, 25. , 19.9, 17.2, 24.6, 13.5, 26.6, 21.4, 11.9,\n",
       "       22.6, 19.6,  8.5, 23.7, 23.1, 22.4, 20.5, 23.6, 18.4, 35.2, 23.1,\n",
       "       27.9, 20.6, 23.7, 28. , 13.6, 27.1, 23.6, 20.6, 18.2, 21.7, 17.1,\n",
       "        8.4, 25.3, 13.8, 22.2, 18.4, 20.7, 31.6, 30.5, 20.3,  8.8, 19.2,\n",
       "       19.4, 23.1, 23. , 14.8, 48.8, 22.6, 33.4, 21.1, 13.6, 32.2, 13.1,\n",
       "       23.4, 18.9, 23.9, 11.8, 23.3, 22.8, 19.6, 16.7, 13.4, 22.2, 20.4,\n",
       "       21.8, 26.4, 14.9, 24.1, 23.8, 12.3, 29.1, 21. , 19.5, 23.3, 23.8,\n",
       "       17.8, 11.5, 21.7, 19.9, 25. , 33.4, 28.5, 21.4, 24.3, 27.5, 33.1,\n",
       "       16.2, 23.3, 48.3, 22.9, 22.8, 13.1, 12.7, 22.6, 15. , 15.3, 10.5,\n",
       "       24. , 18.5, 21.7, 19.5, 33.2, 23.2,  5. , 19.1, 12.7, 22.3, 10.2,\n",
       "       13.9, 16.3, 17. , 20.1, 29.9, 17.2, 37.3, 45.4, 17.8, 23.2, 29. ,\n",
       "       22. , 18. , 17.4, 34.6, 20.1, 25. , 15.6, 24.8, 28.2, 21.2, 21.4,\n",
       "       23.8, 31. , 26.2, 17.4, 37.9, 17.5, 20. ,  8.3, 23.9,  8.4, 13.8,\n",
       "        7.2, 11.7, 17.1, 21.6, 50. , 16.1, 20.4, 20.6, 21.4, 20.6, 36.5,\n",
       "        8.5, 24.8, 10.8, 21.9, 17.3, 18.9, 36.2, 14.9, 18.2, 33.3, 21.8,\n",
       "       19.7, 31.6, 24.8, 19.4, 22.8,  7.5, 44.8, 16.8, 18.7, 50. , 50. ,\n",
       "       19.5, 20.1, 50. , 17.2, 20.8, 19.3, 41.3, 20.4, 20.5, 13.8, 16.5,\n",
       "       23.9, 20.6, 31.5, 23.3, 16.8, 14. , 33.8, 36.1, 12.8, 18.3, 18.7,\n",
       "       19.1, 29. , 30.1, 50. , 50. , 22. , 11.9, 37.6, 50. , 22.7, 20.8,\n",
       "       23.5, 27.9, 50. , 19.3, 23.9, 22.6, 15.2, 21.7, 19.2, 43.8, 20.3,\n",
       "       33.2, 19.9, 22.5, 32.7, 22. , 17.1, 19. , 15. , 16.1, 25.1, 23.7,\n",
       "       28.7, 37.2, 22.6, 16.4, 25. , 29.8, 22.1, 17.4, 18.1, 30.3, 17.5,\n",
       "       24.7, 12.6, 26.5, 28.7, 13.3, 10.4, 24.4, 23. , 20. , 17.8,  7. ,\n",
       "       11.8, 24.4, 13.8, 19.4, 25.2, 19.4, 19.4, 29.1])"
      ]
     },
     "execution_count": 207,
     "metadata": {},
     "output_type": "execute_result"
    }
   ],
   "source": [
    "train_targets"
   ]
  },
  {
   "cell_type": "markdown",
   "metadata": {},
   "source": [
    "### 3.6.2 데이터 준비"
   ]
  },
  {
   "cell_type": "code",
   "execution_count": 208,
   "metadata": {},
   "outputs": [],
   "source": [
    "mean= train_data.mean(axis=0)\n",
    "train_data -= mean\n",
    "\n",
    "std = train_data.std(axis=0)\n",
    "train_data /= std"
   ]
  },
  {
   "cell_type": "code",
   "execution_count": 209,
   "metadata": {},
   "outputs": [],
   "source": [
    "test_data -= mean\n",
    "test_data /= std # train data에서 얻은 mean과 standard deviation으로 정규화 시켜주어야 함"
   ]
  },
  {
   "cell_type": "markdown",
   "metadata": {},
   "source": [
    "### 3.6.3 모델 구성"
   ]
  },
  {
   "cell_type": "code",
   "execution_count": 233,
   "metadata": {},
   "outputs": [],
   "source": [
    "from keras import models\n",
    "from keras import layers"
   ]
  },
  {
   "cell_type": "code",
   "execution_count": 248,
   "metadata": {},
   "outputs": [],
   "source": [
    "def build_model():\n",
    "    model = models.Sequential()\n",
    "    model.add(layers.Dense(64, activation = 'relu',\n",
    "                          input_shape = (train_data.shape[1],)))\n",
    "    model.add(layers.Dense(64, activation = 'relu'))\n",
    "    model.add(layers.Dense(1))\n",
    "    model.compile(optimizer = 'rmsprop', loss = 'mse', metrics=['mae'])\n",
    "    return model"
   ]
  },
  {
   "cell_type": "markdown",
   "metadata": {},
   "source": [
    "### 평균 제곱 오차 (MSE) -> $E = {1\\over 2} \\sum_{k}(y_k - t_k) ^2 $\n",
    "\n",
    "평균 제곱 오차가 작을수록 정답에 더 가까운 것으로 판단\n",
    "\n",
    "\n",
    "- MAE: 평균절대오차: 예측과 타깃 사이 거리의 절댓값"
   ]
  },
  {
   "cell_type": "markdown",
   "metadata": {},
   "source": [
    "### 3.6.4 K-겹 검증을 사용한 훈련 검증"
   ]
  },
  {
   "cell_type": "code",
   "execution_count": 249,
   "metadata": {},
   "outputs": [],
   "source": [
    "import numpy as np"
   ]
  },
  {
   "cell_type": "code",
   "execution_count": 250,
   "metadata": {},
   "outputs": [],
   "source": [
    "k = 4"
   ]
  },
  {
   "cell_type": "code",
   "execution_count": 272,
   "metadata": {},
   "outputs": [
    {
     "name": "stdout",
     "output_type": "stream",
     "text": [
      "처리중인 폴드 # 0\n",
      "처리중인 폴드 # 1\n",
      "처리중인 폴드 # 2\n",
      "처리중인 폴드 # 3\n"
     ]
    }
   ],
   "source": [
    "num_val_samples = len(train_data) // k\n",
    "num_epochs = 100\n",
    "all_scores = []\n",
    "for i in range(k):\n",
    "    print('처리중인 폴드 #', i)\n",
    "    val_data = train_data[i*num_val_samples: (i+1)*num_val_samples]\n",
    "    val_targets = train_targets[i*num_val_samples : (i+1)*num_val_samples]\n",
    "    partial_train_data = np.concatenate(\n",
    "        [train_data[:i*num_val_samples],\n",
    "        train_data[(i+1)*num_val_samples:]],\n",
    "        axis = 0)\n",
    "    partial_train_targets = np.concatenate(\n",
    "        [train_targets[:i*num_val_samples],\n",
    "        train_targets[(i+1)*num_val_samples:]],\n",
    "        axis = 0)\n",
    "    \n",
    "    model = build_model()\n",
    "    model.fit(partial_train_data, partial_train_targets, \n",
    "         epochs = num_epochs, batch_size = 1, verbose = 0)\n",
    "    \n",
    "    val_mse, val_mae = model.evaluate(val_data, val_targets, verbose = 0)\n",
    "    all_scores.append(val_mae)"
   ]
  },
  {
   "cell_type": "code",
   "execution_count": 266,
   "metadata": {},
   "outputs": [
    {
     "data": {
      "text/plain": [
       "[2.4410696029663086, 2.4122154712677, 2.5827014446258545, 2.3676159381866455]"
      ]
     },
     "execution_count": 266,
     "metadata": {},
     "output_type": "execute_result"
    }
   ],
   "source": [
    "all_scores"
   ]
  },
  {
   "cell_type": "code",
   "execution_count": 267,
   "metadata": {},
   "outputs": [
    {
     "data": {
      "text/plain": [
       "2.450900614261627"
      ]
     },
     "execution_count": 267,
     "metadata": {},
     "output_type": "execute_result"
    }
   ],
   "source": [
    "np.mean(all_scores)"
   ]
  },
  {
   "cell_type": "code",
   "execution_count": 281,
   "metadata": {},
   "outputs": [
    {
     "name": "stdout",
     "output_type": "stream",
     "text": [
      "처리중인 폴드 # 0\n",
      "처리중인 폴드 # 1\n",
      "처리중인 폴드 # 2\n",
      "처리중인 폴드 # 3\n"
     ]
    }
   ],
   "source": [
    "num_epochs = 500\n",
    "all_mae_histories = []\n",
    "for i in range(k):\n",
    "    print('처리중인 폴드 #', i)\n",
    "    val_data = train_data[i*num_val_samples: (i+1)*num_val_samples]\n",
    "    val_targets = train_targets[i*num_val_samples : (i+1)*num_val_samples]\n",
    "    partial_train_data = np.concatenate(\n",
    "        [train_data[:i*num_val_samples],\n",
    "        train_data[(i+1)*num_val_samples:]],\n",
    "        axis = 0)\n",
    "    partial_train_targets = np.concatenate(\n",
    "        [train_targets[:i*num_val_samples],\n",
    "        train_targets[(i+1)*num_val_samples:]],\n",
    "        axis = 0)\n",
    "    \n",
    "    model = build_model()\n",
    "    history = model.fit(partial_train_data, partial_train_targets, \n",
    "              validation_data = (val_data, val_targets),\n",
    "              epochs = num_epochs, \n",
    "              batch_size = 1, \n",
    "              verbose = 0)\n",
    "\n",
    "    mae_history = history.history['val_mae']\n",
    "    all_mae_histories.append(mae_history)"
   ]
  },
  {
   "cell_type": "code",
   "execution_count": 292,
   "metadata": {},
   "outputs": [
    {
     "data": {
      "text/plain": [
       "500"
      ]
     },
     "execution_count": 292,
     "metadata": {},
     "output_type": "execute_result"
    }
   ],
   "source": [
    "len(all_mae_histories[0])"
   ]
  },
  {
   "cell_type": "code",
   "execution_count": 280,
   "metadata": {},
   "outputs": [
    {
     "data": {
      "text/plain": [
       "dict_keys(['loss', 'mae', 'val_loss', 'val_mae'])"
      ]
     },
     "execution_count": 280,
     "metadata": {},
     "output_type": "execute_result"
    }
   ],
   "source": [
    "history_mae= history.history\n",
    "history_mae.keys()"
   ]
  },
  {
   "cell_type": "code",
   "execution_count": 282,
   "metadata": {},
   "outputs": [
    {
     "data": {
      "text/plain": [
       "[[3.6783716678619385,\n",
       "  2.9794082641601562,\n",
       "  2.8161749839782715,\n",
       "  2.4944236278533936,\n",
       "  2.0488715171813965,\n",
       "  2.329210042953491,\n",
       "  1.9489914178848267,\n",
       "  2.0712313652038574,\n",
       "  2.081742286682129,\n",
       "  2.4162919521331787,\n",
       "  2.1313207149505615,\n",
       "  2.0911331176757812,\n",
       "  2.1891820430755615,\n",
       "  1.784919023513794,\n",
       "  2.1912708282470703,\n",
       "  2.058053493499756,\n",
       "  1.9294430017471313,\n",
       "  2.244811773300171,\n",
       "  2.35600209236145,\n",
       "  1.7549901008605957,\n",
       "  1.9594874382019043,\n",
       "  1.9317865371704102,\n",
       "  1.8710016012191772,\n",
       "  1.8683127164840698,\n",
       "  1.9707826375961304,\n",
       "  2.0606138706207275,\n",
       "  1.9891221523284912,\n",
       "  1.8503063917160034,\n",
       "  2.3907065391540527,\n",
       "  2.232515811920166,\n",
       "  1.8446133136749268,\n",
       "  1.8369252681732178,\n",
       "  2.19405198097229,\n",
       "  2.073702573776245,\n",
       "  1.9334452152252197,\n",
       "  2.0354421138763428,\n",
       "  1.8353638648986816,\n",
       "  1.8866087198257446,\n",
       "  2.2397773265838623,\n",
       "  1.9806530475616455,\n",
       "  1.9444923400878906,\n",
       "  1.9605441093444824,\n",
       "  2.0620384216308594,\n",
       "  2.0383429527282715,\n",
       "  1.9873371124267578,\n",
       "  2.127972364425659,\n",
       "  1.9897222518920898,\n",
       "  2.1641743183135986,\n",
       "  1.9176496267318726,\n",
       "  2.0662806034088135,\n",
       "  3.5959348678588867,\n",
       "  2.161048173904419,\n",
       "  2.067023515701294,\n",
       "  2.2952539920806885,\n",
       "  2.0486361980438232,\n",
       "  2.057382822036743,\n",
       "  2.075831413269043,\n",
       "  2.5062601566314697,\n",
       "  2.05592942237854,\n",
       "  1.9315415620803833,\n",
       "  2.2058181762695312,\n",
       "  2.0558388233184814,\n",
       "  2.2276554107666016,\n",
       "  2.0741777420043945,\n",
       "  2.0180888175964355,\n",
       "  2.0221917629241943,\n",
       "  2.396407127380371,\n",
       "  2.206026315689087,\n",
       "  2.2392916679382324,\n",
       "  2.35793399810791,\n",
       "  2.052867889404297,\n",
       "  2.410818576812744,\n",
       "  2.184666156768799,\n",
       "  2.1719894409179688,\n",
       "  2.0361483097076416,\n",
       "  2.2487332820892334,\n",
       "  2.0670039653778076,\n",
       "  2.3290340900421143,\n",
       "  2.225714921951294,\n",
       "  2.0179784297943115,\n",
       "  2.181156635284424,\n",
       "  2.1181271076202393,\n",
       "  2.1711337566375732,\n",
       "  2.281505584716797,\n",
       "  2.1839663982391357,\n",
       "  2.144869565963745,\n",
       "  2.229074716567993,\n",
       "  2.125221014022827,\n",
       "  2.7942681312561035,\n",
       "  2.240499973297119,\n",
       "  2.049269676208496,\n",
       "  2.267268657684326,\n",
       "  2.1469333171844482,\n",
       "  2.226891279220581,\n",
       "  2.1904873847961426,\n",
       "  2.1633827686309814,\n",
       "  2.2820515632629395,\n",
       "  2.4266598224639893,\n",
       "  2.3745107650756836,\n",
       "  2.4553565979003906,\n",
       "  2.4504122734069824,\n",
       "  2.301051378250122,\n",
       "  2.457689046859741,\n",
       "  2.157379627227783,\n",
       "  2.1722500324249268,\n",
       "  2.2474870681762695,\n",
       "  2.312028408050537,\n",
       "  2.1776554584503174,\n",
       "  2.190166711807251,\n",
       "  2.1824636459350586,\n",
       "  2.001154661178589,\n",
       "  2.1652283668518066,\n",
       "  2.1546506881713867,\n",
       "  2.124767303466797,\n",
       "  2.195970296859741,\n",
       "  2.166332483291626,\n",
       "  2.364262342453003,\n",
       "  2.249452590942383,\n",
       "  2.362086296081543,\n",
       "  2.211766242980957,\n",
       "  2.3328192234039307,\n",
       "  2.2257230281829834,\n",
       "  2.300466299057007,\n",
       "  2.2515792846679688,\n",
       "  2.24127459526062,\n",
       "  2.279008388519287,\n",
       "  2.3202064037323,\n",
       "  2.1371541023254395,\n",
       "  2.3219046592712402,\n",
       "  2.4255216121673584,\n",
       "  2.589855909347534,\n",
       "  2.351809024810791,\n",
       "  2.5193591117858887,\n",
       "  2.4605443477630615,\n",
       "  2.421499490737915,\n",
       "  2.3077683448791504,\n",
       "  2.608100414276123,\n",
       "  2.3399479389190674,\n",
       "  2.07080340385437,\n",
       "  2.3678557872772217,\n",
       "  2.2812864780426025,\n",
       "  2.397324800491333,\n",
       "  2.371782064437866,\n",
       "  2.3707566261291504,\n",
       "  2.2086167335510254,\n",
       "  2.2605106830596924,\n",
       "  2.4004063606262207,\n",
       "  2.800962209701538,\n",
       "  2.491313934326172,\n",
       "  2.6819255352020264,\n",
       "  2.5970473289489746,\n",
       "  2.409224271774292,\n",
       "  2.2626848220825195,\n",
       "  2.596395969390869,\n",
       "  2.4540350437164307,\n",
       "  2.4522812366485596,\n",
       "  2.281809091567993,\n",
       "  2.5024986267089844,\n",
       "  2.3944380283355713,\n",
       "  2.483576774597168,\n",
       "  2.2958896160125732,\n",
       "  2.5043740272521973,\n",
       "  2.3056626319885254,\n",
       "  2.4288079738616943,\n",
       "  2.6741909980773926,\n",
       "  2.448413372039795,\n",
       "  2.376988649368286,\n",
       "  2.639376163482666,\n",
       "  2.4619717597961426,\n",
       "  2.3955535888671875,\n",
       "  2.4331369400024414,\n",
       "  2.7612640857696533,\n",
       "  2.4233644008636475,\n",
       "  2.321641445159912,\n",
       "  2.3495993614196777,\n",
       "  2.2267165184020996,\n",
       "  2.46325945854187,\n",
       "  2.507481098175049,\n",
       "  2.5050723552703857,\n",
       "  2.6837449073791504,\n",
       "  2.389772415161133,\n",
       "  2.4856483936309814,\n",
       "  2.5915000438690186,\n",
       "  2.363323926925659,\n",
       "  2.2571861743927,\n",
       "  2.341548442840576,\n",
       "  2.3011574745178223,\n",
       "  2.4997050762176514,\n",
       "  2.5020294189453125,\n",
       "  2.50893497467041,\n",
       "  2.522010087966919,\n",
       "  2.3854849338531494,\n",
       "  2.7231640815734863,\n",
       "  2.3200342655181885,\n",
       "  2.5151612758636475,\n",
       "  2.4109115600585938,\n",
       "  2.4564170837402344,\n",
       "  2.3914055824279785,\n",
       "  2.4745380878448486,\n",
       "  2.5866990089416504,\n",
       "  2.5971760749816895,\n",
       "  2.4822402000427246,\n",
       "  2.4843809604644775,\n",
       "  2.5479586124420166,\n",
       "  2.4943666458129883,\n",
       "  2.4339523315429688,\n",
       "  2.3533987998962402,\n",
       "  2.4352211952209473,\n",
       "  2.500558376312256,\n",
       "  2.379230260848999,\n",
       "  2.5777530670166016,\n",
       "  2.428199052810669,\n",
       "  2.462834358215332,\n",
       "  2.523514747619629,\n",
       "  2.5253639221191406,\n",
       "  2.4771640300750732,\n",
       "  2.383188486099243,\n",
       "  2.426462411880493,\n",
       "  2.453883171081543,\n",
       "  2.2991855144500732,\n",
       "  2.36771559715271,\n",
       "  2.6508328914642334,\n",
       "  2.566904306411743,\n",
       "  2.5039925575256348,\n",
       "  2.480867385864258,\n",
       "  2.4800286293029785,\n",
       "  2.477182626724243,\n",
       "  2.3771615028381348,\n",
       "  2.4530692100524902,\n",
       "  2.751224994659424,\n",
       "  2.549518585205078,\n",
       "  2.399980068206787,\n",
       "  2.483398675918579,\n",
       "  2.610604763031006,\n",
       "  2.3739824295043945,\n",
       "  2.708997964859009,\n",
       "  2.505746603012085,\n",
       "  2.4177348613739014,\n",
       "  2.4612534046173096,\n",
       "  2.522138833999634,\n",
       "  2.540688991546631,\n",
       "  2.5676963329315186,\n",
       "  2.6288654804229736,\n",
       "  2.68528151512146,\n",
       "  2.5527095794677734,\n",
       "  2.385281801223755,\n",
       "  2.7819981575012207,\n",
       "  2.527350902557373,\n",
       "  2.681544780731201,\n",
       "  2.536921501159668,\n",
       "  2.4860854148864746,\n",
       "  2.300844669342041,\n",
       "  2.629641056060791,\n",
       "  2.806919574737549,\n",
       "  2.363659143447876,\n",
       "  2.624384880065918,\n",
       "  2.627138137817383,\n",
       "  2.431056499481201,\n",
       "  2.5433738231658936,\n",
       "  2.5333876609802246,\n",
       "  2.588944911956787,\n",
       "  2.5534474849700928,\n",
       "  2.404750347137451,\n",
       "  2.4930830001831055,\n",
       "  2.4974567890167236,\n",
       "  2.752617835998535,\n",
       "  2.587301015853882,\n",
       "  2.4295194149017334,\n",
       "  2.394954204559326,\n",
       "  2.6208384037017822,\n",
       "  2.778151035308838,\n",
       "  2.471689462661743,\n",
       "  2.3941919803619385,\n",
       "  2.5835752487182617,\n",
       "  2.6294288635253906,\n",
       "  2.718073844909668,\n",
       "  2.6971919536590576,\n",
       "  2.4963529109954834,\n",
       "  2.4736642837524414,\n",
       "  2.5722296237945557,\n",
       "  2.5733554363250732,\n",
       "  2.64035964012146,\n",
       "  2.5764739513397217,\n",
       "  2.4366631507873535,\n",
       "  2.503234624862671,\n",
       "  2.4215683937072754,\n",
       "  2.474947690963745,\n",
       "  2.5977210998535156,\n",
       "  2.5950045585632324,\n",
       "  2.734178066253662,\n",
       "  2.5394997596740723,\n",
       "  2.5783565044403076,\n",
       "  2.4722890853881836,\n",
       "  2.6749508380889893,\n",
       "  2.5283305644989014,\n",
       "  2.3959250450134277,\n",
       "  2.4761698246002197,\n",
       "  2.525679349899292,\n",
       "  2.367016077041626,\n",
       "  2.582562208175659,\n",
       "  2.5662386417388916,\n",
       "  2.5405590534210205,\n",
       "  2.6912999153137207,\n",
       "  2.5653903484344482,\n",
       "  2.6209535598754883,\n",
       "  2.783327341079712,\n",
       "  2.617948055267334,\n",
       "  2.718628168106079,\n",
       "  2.516561508178711,\n",
       "  2.2888882160186768,\n",
       "  2.692084789276123,\n",
       "  2.55251407623291,\n",
       "  2.408129930496216,\n",
       "  2.5771291255950928,\n",
       "  2.488135576248169,\n",
       "  2.6053435802459717,\n",
       "  2.603684902191162,\n",
       "  2.6652650833129883,\n",
       "  2.559159994125366,\n",
       "  2.7216694355010986,\n",
       "  2.4743406772613525,\n",
       "  2.5622875690460205,\n",
       "  2.7221567630767822,\n",
       "  2.4897260665893555,\n",
       "  2.665869951248169,\n",
       "  2.6201939582824707,\n",
       "  2.534195899963379,\n",
       "  2.3865325450897217,\n",
       "  2.2607369422912598,\n",
       "  2.4733688831329346,\n",
       "  2.6091363430023193,\n",
       "  2.6725358963012695,\n",
       "  2.5848751068115234,\n",
       "  2.701551675796509,\n",
       "  2.5409817695617676,\n",
       "  2.691204309463501,\n",
       "  2.6543147563934326,\n",
       "  2.526203155517578,\n",
       "  2.6179044246673584,\n",
       "  2.625605821609497,\n",
       "  2.7647058963775635,\n",
       "  2.5869977474212646,\n",
       "  2.632533311843872,\n",
       "  2.689108371734619,\n",
       "  2.7290074825286865,\n",
       "  2.5836715698242188,\n",
       "  2.550787925720215,\n",
       "  2.579359292984009,\n",
       "  2.627256393432617,\n",
       "  2.6517605781555176,\n",
       "  2.7428205013275146,\n",
       "  2.591132402420044,\n",
       "  2.7972750663757324,\n",
       "  2.650331497192383,\n",
       "  2.6149401664733887,\n",
       "  2.5433733463287354,\n",
       "  2.6961183547973633,\n",
       "  2.6979665756225586,\n",
       "  2.6773769855499268,\n",
       "  2.545196533203125,\n",
       "  2.687892198562622,\n",
       "  2.7018532752990723,\n",
       "  2.541072130203247,\n",
       "  2.691678762435913,\n",
       "  2.5609946250915527,\n",
       "  2.671111822128296,\n",
       "  2.671550989151001,\n",
       "  2.6247243881225586,\n",
       "  2.5545687675476074,\n",
       "  2.4584856033325195,\n",
       "  2.4839234352111816,\n",
       "  2.633551836013794,\n",
       "  2.7342400550842285,\n",
       "  2.5828685760498047,\n",
       "  2.604631185531616,\n",
       "  2.5463223457336426,\n",
       "  2.3847274780273438,\n",
       "  2.5438036918640137,\n",
       "  2.5364291667938232,\n",
       "  2.501854658126831,\n",
       "  2.366485118865967,\n",
       "  2.6000874042510986,\n",
       "  2.66201114654541,\n",
       "  2.4177768230438232,\n",
       "  2.7154417037963867,\n",
       "  2.6323981285095215,\n",
       "  2.4583606719970703,\n",
       "  2.493401527404785,\n",
       "  2.6760945320129395,\n",
       "  2.6432716846466064,\n",
       "  2.6042866706848145,\n",
       "  2.694352626800537,\n",
       "  2.7103195190429688,\n",
       "  2.606872320175171,\n",
       "  2.4606897830963135,\n",
       "  2.6931822299957275,\n",
       "  2.489936351776123,\n",
       "  2.756699323654175,\n",
       "  2.652742862701416,\n",
       "  2.6854426860809326,\n",
       "  2.523423194885254,\n",
       "  2.3912439346313477,\n",
       "  2.7407517433166504,\n",
       "  2.5602402687072754,\n",
       "  2.359480381011963,\n",
       "  2.6407322883605957,\n",
       "  2.3864083290100098,\n",
       "  2.617983341217041,\n",
       "  2.7748007774353027,\n",
       "  2.5790257453918457,\n",
       "  2.612110137939453,\n",
       "  2.448598623275757,\n",
       "  2.4010655879974365,\n",
       "  2.460585117340088,\n",
       "  2.600599765777588,\n",
       "  2.6147372722625732,\n",
       "  2.4634206295013428,\n",
       "  2.6441433429718018,\n",
       "  2.7992937564849854,\n",
       "  2.65151047706604,\n",
       "  2.637784957885742,\n",
       "  2.5750908851623535,\n",
       "  2.6817092895507812,\n",
       "  2.6308276653289795,\n",
       "  2.779730796813965,\n",
       "  2.672927141189575,\n",
       "  2.5456998348236084,\n",
       "  2.7492458820343018,\n",
       "  2.572803497314453,\n",
       "  2.5088722705841064,\n",
       "  2.576887369155884,\n",
       "  2.4288392066955566,\n",
       "  2.6245369911193848,\n",
       "  2.4094693660736084,\n",
       "  2.582228899002075,\n",
       "  2.3600640296936035,\n",
       "  2.665043354034424,\n",
       "  2.6337528228759766,\n",
       "  2.692296028137207,\n",
       "  2.612147569656372,\n",
       "  2.5765535831451416,\n",
       "  2.5788893699645996,\n",
       "  2.8297829627990723,\n",
       "  2.4782721996307373,\n",
       "  2.474140167236328,\n",
       "  2.5512092113494873,\n",
       "  2.451141595840454,\n",
       "  2.518228054046631,\n",
       "  2.4915120601654053,\n",
       "  2.5076303482055664,\n",
       "  2.4638843536376953,\n",
       "  2.6715621948242188,\n",
       "  2.5436198711395264,\n",
       "  2.361863613128662,\n",
       "  2.54487681388855,\n",
       "  2.618908643722534,\n",
       "  2.6488418579101562,\n",
       "  2.3801910877227783,\n",
       "  2.5365688800811768,\n",
       "  2.4416232109069824,\n",
       "  2.3551034927368164,\n",
       "  2.604624032974243,\n",
       "  2.4743025302886963,\n",
       "  2.550570011138916,\n",
       "  2.6670033931732178,\n",
       "  2.4665162563323975,\n",
       "  2.6169536113739014,\n",
       "  2.6374406814575195,\n",
       "  2.6176350116729736,\n",
       "  2.570150136947632,\n",
       "  2.639298439025879,\n",
       "  2.6210427284240723,\n",
       "  2.5120437145233154,\n",
       "  2.4322595596313477,\n",
       "  2.558907985687256,\n",
       "  2.4370758533477783,\n",
       "  2.6957433223724365,\n",
       "  2.715740203857422,\n",
       "  2.50945782661438,\n",
       "  2.3919179439544678,\n",
       "  2.4399983882904053,\n",
       "  2.5528171062469482,\n",
       "  2.4972479343414307,\n",
       "  2.7052321434020996,\n",
       "  2.429997444152832,\n",
       "  2.4739766120910645,\n",
       "  2.470236301422119,\n",
       "  2.5361618995666504,\n",
       "  2.5042033195495605,\n",
       "  2.537578821182251,\n",
       "  2.5123186111450195,\n",
       "  2.514547109603882,\n",
       "  2.5950589179992676,\n",
       "  2.6206891536712646,\n",
       "  2.56482195854187,\n",
       "  2.427943706512451,\n",
       "  2.610137939453125,\n",
       "  2.508178472518921,\n",
       "  2.4539713859558105,\n",
       "  2.6049246788024902],\n",
       " [4.511966228485107,\n",
       "  3.551494598388672,\n",
       "  3.1078379154205322,\n",
       "  3.1871962547302246,\n",
       "  2.8307502269744873,\n",
       "  2.8139209747314453,\n",
       "  2.880737066268921,\n",
       "  2.9507551193237305,\n",
       "  2.808854818344116,\n",
       "  2.7988429069519043,\n",
       "  2.721341371536255,\n",
       "  2.6726207733154297,\n",
       "  2.6856987476348877,\n",
       "  2.746079921722412,\n",
       "  2.6837902069091797,\n",
       "  2.7934627532958984,\n",
       "  2.6941068172454834,\n",
       "  2.525325298309326,\n",
       "  2.5484044551849365,\n",
       "  2.5998940467834473,\n",
       "  2.5243029594421387,\n",
       "  2.894130229949951,\n",
       "  2.8925588130950928,\n",
       "  2.8631458282470703,\n",
       "  2.519449472427368,\n",
       "  2.511608839035034,\n",
       "  2.741734027862549,\n",
       "  2.469383955001831,\n",
       "  2.589261770248413,\n",
       "  2.490654706954956,\n",
       "  2.725003719329834,\n",
       "  2.4492592811584473,\n",
       "  2.523871898651123,\n",
       "  2.5332305431365967,\n",
       "  2.637850046157837,\n",
       "  2.455313205718994,\n",
       "  2.6008312702178955,\n",
       "  2.4552125930786133,\n",
       "  2.5581305027008057,\n",
       "  3.0711965560913086,\n",
       "  2.3807599544525146,\n",
       "  2.6605231761932373,\n",
       "  2.3931870460510254,\n",
       "  2.445058584213257,\n",
       "  2.4309773445129395,\n",
       "  2.560258388519287,\n",
       "  2.4643657207489014,\n",
       "  2.3502166271209717,\n",
       "  2.6111502647399902,\n",
       "  2.585069179534912,\n",
       "  2.7858693599700928,\n",
       "  2.5576624870300293,\n",
       "  2.3673596382141113,\n",
       "  2.272061586380005,\n",
       "  2.631091833114624,\n",
       "  2.529385805130005,\n",
       "  2.9748284816741943,\n",
       "  2.7659223079681396,\n",
       "  2.6417148113250732,\n",
       "  2.5250983238220215,\n",
       "  2.414395570755005,\n",
       "  2.5322325229644775,\n",
       "  2.6721644401550293,\n",
       "  2.466114044189453,\n",
       "  2.7144041061401367,\n",
       "  2.687559127807617,\n",
       "  2.368961811065674,\n",
       "  2.23713755607605,\n",
       "  2.3706166744232178,\n",
       "  2.2256531715393066,\n",
       "  2.3287787437438965,\n",
       "  2.4403982162475586,\n",
       "  2.7748069763183594,\n",
       "  2.6049091815948486,\n",
       "  2.707324743270874,\n",
       "  2.9129111766815186,\n",
       "  2.685131311416626,\n",
       "  2.545213460922241,\n",
       "  2.3393144607543945,\n",
       "  2.520430564880371,\n",
       "  2.3976833820343018,\n",
       "  2.5671005249023438,\n",
       "  2.32914400100708,\n",
       "  2.3644325733184814,\n",
       "  2.489471673965454,\n",
       "  2.4050517082214355,\n",
       "  2.698467254638672,\n",
       "  2.402700185775757,\n",
       "  2.974857807159424,\n",
       "  2.251575231552124,\n",
       "  3.1774520874023438,\n",
       "  2.8769588470458984,\n",
       "  2.848573923110962,\n",
       "  2.982234001159668,\n",
       "  2.469916343688965,\n",
       "  3.011277198791504,\n",
       "  2.6674752235412598,\n",
       "  2.6717119216918945,\n",
       "  2.63519024848938,\n",
       "  2.519606828689575,\n",
       "  2.800394296646118,\n",
       "  2.981220006942749,\n",
       "  2.803807020187378,\n",
       "  2.2927322387695312,\n",
       "  2.9736557006835938,\n",
       "  2.5536303520202637,\n",
       "  2.5857672691345215,\n",
       "  2.656787157058716,\n",
       "  2.9645626544952393,\n",
       "  2.652221441268921,\n",
       "  2.9555716514587402,\n",
       "  2.9098243713378906,\n",
       "  2.7937262058258057,\n",
       "  2.8561785221099854,\n",
       "  3.132648468017578,\n",
       "  2.512895345687866,\n",
       "  3.0799174308776855,\n",
       "  3.1361212730407715,\n",
       "  2.814171314239502,\n",
       "  2.774150848388672,\n",
       "  3.0761032104492188,\n",
       "  2.7052228450775146,\n",
       "  2.7050819396972656,\n",
       "  2.5555577278137207,\n",
       "  2.77878737449646,\n",
       "  2.618746280670166,\n",
       "  3.1760902404785156,\n",
       "  2.731365203857422,\n",
       "  2.622772455215454,\n",
       "  2.9878830909729004,\n",
       "  3.031125545501709,\n",
       "  2.804175615310669,\n",
       "  3.266451358795166,\n",
       "  3.203249216079712,\n",
       "  2.8289005756378174,\n",
       "  2.8596394062042236,\n",
       "  2.580778121948242,\n",
       "  3.1818721294403076,\n",
       "  3.110884189605713,\n",
       "  3.0194644927978516,\n",
       "  3.0408241748809814,\n",
       "  2.970489263534546,\n",
       "  2.886821746826172,\n",
       "  2.8393027782440186,\n",
       "  2.9311628341674805,\n",
       "  3.312268018722534,\n",
       "  3.187731981277466,\n",
       "  2.9203009605407715,\n",
       "  2.9602973461151123,\n",
       "  3.380016326904297,\n",
       "  3.304840326309204,\n",
       "  3.0379276275634766,\n",
       "  3.043386220932007,\n",
       "  3.2553722858428955,\n",
       "  2.91068434715271,\n",
       "  3.0294721126556396,\n",
       "  3.172006845474243,\n",
       "  3.537738084793091,\n",
       "  2.9828765392303467,\n",
       "  3.2835726737976074,\n",
       "  3.2948005199432373,\n",
       "  2.9890296459198,\n",
       "  2.9934287071228027,\n",
       "  3.6388020515441895,\n",
       "  2.8789196014404297,\n",
       "  3.4250779151916504,\n",
       "  3.550018310546875,\n",
       "  3.0927443504333496,\n",
       "  2.967716693878174,\n",
       "  3.1167962551116943,\n",
       "  3.4719138145446777,\n",
       "  2.8392772674560547,\n",
       "  3.395655870437622,\n",
       "  2.9640026092529297,\n",
       "  3.4100840091705322,\n",
       "  3.457043409347534,\n",
       "  3.077810049057007,\n",
       "  2.8785109519958496,\n",
       "  3.1280345916748047,\n",
       "  3.3181724548339844,\n",
       "  3.202968120574951,\n",
       "  3.085552215576172,\n",
       "  3.3974480628967285,\n",
       "  3.2861552238464355,\n",
       "  3.1711134910583496,\n",
       "  3.1577274799346924,\n",
       "  3.364816188812256,\n",
       "  3.051189661026001,\n",
       "  3.122152090072632,\n",
       "  3.221796989440918,\n",
       "  3.1681978702545166,\n",
       "  3.3141140937805176,\n",
       "  3.5136992931365967,\n",
       "  3.507918357849121,\n",
       "  3.325756311416626,\n",
       "  3.204838752746582,\n",
       "  3.365206480026245,\n",
       "  2.896608829498291,\n",
       "  3.291517734527588,\n",
       "  3.5914580821990967,\n",
       "  3.3297085762023926,\n",
       "  3.1677820682525635,\n",
       "  3.190716028213501,\n",
       "  3.2858784198760986,\n",
       "  3.0954976081848145,\n",
       "  3.2067315578460693,\n",
       "  3.2254369258880615,\n",
       "  3.369760751724243,\n",
       "  3.844383716583252,\n",
       "  3.2873151302337646,\n",
       "  3.3823511600494385,\n",
       "  3.5507073402404785,\n",
       "  3.192568302154541,\n",
       "  3.212754011154175,\n",
       "  3.2916793823242188,\n",
       "  3.5012826919555664,\n",
       "  3.6170732975006104,\n",
       "  3.1156506538391113,\n",
       "  3.1199543476104736,\n",
       "  2.668276071548462,\n",
       "  3.076740264892578,\n",
       "  3.073101758956909,\n",
       "  2.9892077445983887,\n",
       "  3.0696218013763428,\n",
       "  3.0086565017700195,\n",
       "  3.5207204818725586,\n",
       "  3.8098762035369873,\n",
       "  3.1480796337127686,\n",
       "  3.473176956176758,\n",
       "  3.360323429107666,\n",
       "  3.2573046684265137,\n",
       "  3.278923511505127,\n",
       "  3.6143174171447754,\n",
       "  3.4440462589263916,\n",
       "  3.3263020515441895,\n",
       "  2.964520215988159,\n",
       "  2.711611032485962,\n",
       "  3.2022011280059814,\n",
       "  3.0349745750427246,\n",
       "  2.7136332988739014,\n",
       "  3.2076871395111084,\n",
       "  3.223135232925415,\n",
       "  2.8787717819213867,\n",
       "  2.9978644847869873,\n",
       "  3.05338191986084,\n",
       "  3.224428415298462,\n",
       "  2.735704183578491,\n",
       "  2.792482376098633,\n",
       "  3.4407753944396973,\n",
       "  3.100161075592041,\n",
       "  3.136671543121338,\n",
       "  3.01733136177063,\n",
       "  3.1849069595336914,\n",
       "  3.3944387435913086,\n",
       "  3.4896228313446045,\n",
       "  3.1921966075897217,\n",
       "  3.0281217098236084,\n",
       "  3.2172739505767822,\n",
       "  2.937483787536621,\n",
       "  3.338834047317505,\n",
       "  3.2607779502868652,\n",
       "  3.307356119155884,\n",
       "  3.4023687839508057,\n",
       "  3.39066219329834,\n",
       "  2.9088945388793945,\n",
       "  2.9401535987854004,\n",
       "  3.3367109298706055,\n",
       "  3.0932445526123047,\n",
       "  3.3738856315612793,\n",
       "  3.5256335735321045,\n",
       "  3.3026137351989746,\n",
       "  3.407416820526123,\n",
       "  3.361406087875366,\n",
       "  3.2615771293640137,\n",
       "  3.076221466064453,\n",
       "  3.1422841548919678,\n",
       "  3.08625864982605,\n",
       "  3.192007541656494,\n",
       "  3.5345818996429443,\n",
       "  3.3702480792999268,\n",
       "  3.136415958404541,\n",
       "  3.376070737838745,\n",
       "  2.8871617317199707,\n",
       "  3.3554673194885254,\n",
       "  3.391770362854004,\n",
       "  3.4765546321868896,\n",
       "  3.355860948562622,\n",
       "  3.0198264122009277,\n",
       "  3.8404781818389893,\n",
       "  3.3021292686462402,\n",
       "  3.235252857208252,\n",
       "  3.497724771499634,\n",
       "  3.271566867828369,\n",
       "  2.9856443405151367,\n",
       "  2.9347805976867676,\n",
       "  3.0048668384552,\n",
       "  3.3256068229675293,\n",
       "  3.6156342029571533,\n",
       "  3.4262492656707764,\n",
       "  3.179018020629883,\n",
       "  3.686251401901245,\n",
       "  3.085752010345459,\n",
       "  3.2945075035095215,\n",
       "  3.5381929874420166,\n",
       "  3.1220014095306396,\n",
       "  3.0220143795013428,\n",
       "  3.2337520122528076,\n",
       "  3.366415500640869,\n",
       "  3.4778454303741455,\n",
       "  3.510096788406372,\n",
       "  3.0526959896087646,\n",
       "  3.760146141052246,\n",
       "  3.334289312362671,\n",
       "  3.018219232559204,\n",
       "  3.2710838317871094,\n",
       "  3.16207218170166,\n",
       "  3.038041114807129,\n",
       "  3.169992685317993,\n",
       "  3.2293646335601807,\n",
       "  3.760070562362671,\n",
       "  3.0474798679351807,\n",
       "  3.2883832454681396,\n",
       "  3.1942319869995117,\n",
       "  3.163353681564331,\n",
       "  3.2858901023864746,\n",
       "  3.4072811603546143,\n",
       "  3.1645452976226807,\n",
       "  3.3824403285980225,\n",
       "  3.2959017753601074,\n",
       "  3.2900009155273438,\n",
       "  3.154054880142212,\n",
       "  3.356304168701172,\n",
       "  3.224250078201294,\n",
       "  3.4405510425567627,\n",
       "  3.0307583808898926,\n",
       "  2.9152846336364746,\n",
       "  3.347052812576294,\n",
       "  3.0935089588165283,\n",
       "  3.2316226959228516,\n",
       "  3.0980825424194336,\n",
       "  3.1638495922088623,\n",
       "  3.3334426879882812,\n",
       "  3.4968836307525635,\n",
       "  3.4421169757843018,\n",
       "  2.914097309112549,\n",
       "  3.10524845123291,\n",
       "  2.9859158992767334,\n",
       "  3.128527879714966,\n",
       "  3.116006374359131,\n",
       "  3.3688409328460693,\n",
       "  3.6346490383148193,\n",
       "  3.103018045425415,\n",
       "  3.165067434310913,\n",
       "  3.365992784500122,\n",
       "  3.4189212322235107,\n",
       "  3.108625888824463,\n",
       "  3.199847936630249,\n",
       "  2.8916285037994385,\n",
       "  3.315397262573242,\n",
       "  3.16039776802063,\n",
       "  3.1954567432403564,\n",
       "  3.2585089206695557,\n",
       "  3.237298011779785,\n",
       "  3.511626958847046,\n",
       "  3.027348279953003,\n",
       "  3.175288677215576,\n",
       "  3.087261438369751,\n",
       "  3.0039939880371094,\n",
       "  3.4268243312835693,\n",
       "  3.561046600341797,\n",
       "  3.502821207046509,\n",
       "  3.634218454360962,\n",
       "  3.174891710281372,\n",
       "  3.317884683609009,\n",
       "  3.30631947517395,\n",
       "  3.0442140102386475,\n",
       "  3.3621137142181396,\n",
       "  3.5673820972442627,\n",
       "  3.2377192974090576,\n",
       "  3.034508466720581,\n",
       "  3.092360019683838,\n",
       "  3.2005510330200195,\n",
       "  3.5203359127044678,\n",
       "  3.4989705085754395,\n",
       "  3.2204692363739014,\n",
       "  3.1063809394836426,\n",
       "  3.1888351440429688,\n",
       "  3.0940728187561035,\n",
       "  3.4080967903137207,\n",
       "  3.1215829849243164,\n",
       "  3.0677809715270996,\n",
       "  3.3451833724975586,\n",
       "  3.1394901275634766,\n",
       "  3.1325955390930176,\n",
       "  3.1928749084472656,\n",
       "  3.1278464794158936,\n",
       "  3.2625439167022705,\n",
       "  3.4040141105651855,\n",
       "  3.132978677749634,\n",
       "  3.4228806495666504,\n",
       "  3.17130184173584,\n",
       "  3.3438098430633545,\n",
       "  3.5049028396606445,\n",
       "  3.2792513370513916,\n",
       "  3.195935010910034,\n",
       "  3.3871617317199707,\n",
       "  3.3209481239318848,\n",
       "  3.3811726570129395,\n",
       "  3.649353265762329,\n",
       "  3.3103866577148438,\n",
       "  3.237082004547119,\n",
       "  3.242408037185669,\n",
       "  3.4590649604797363,\n",
       "  3.207822799682617,\n",
       "  3.0092456340789795,\n",
       "  3.2205629348754883,\n",
       "  3.3101377487182617,\n",
       "  3.325598955154419,\n",
       "  3.55823016166687,\n",
       "  3.1724438667297363,\n",
       "  3.1169071197509766,\n",
       "  3.391407012939453,\n",
       "  3.6156110763549805,\n",
       "  3.2921030521392822,\n",
       "  3.0335772037506104,\n",
       "  3.2934658527374268,\n",
       "  3.1595582962036133,\n",
       "  3.145249128341675,\n",
       "  2.891141891479492,\n",
       "  3.374160051345825,\n",
       "  3.290130853652954,\n",
       "  3.228529453277588,\n",
       "  3.173696756362915,\n",
       "  3.2322988510131836,\n",
       "  3.1336474418640137,\n",
       "  3.2731502056121826,\n",
       "  3.0093395709991455,\n",
       "  3.2920174598693848,\n",
       "  3.2936673164367676,\n",
       "  2.8650407791137695,\n",
       "  2.8884024620056152,\n",
       "  3.4690537452697754,\n",
       "  3.2818965911865234,\n",
       "  3.3123371601104736,\n",
       "  3.271385669708252,\n",
       "  2.9624078273773193,\n",
       "  3.353501081466675,\n",
       "  3.23296856880188,\n",
       "  3.102303981781006,\n",
       "  3.148876428604126,\n",
       "  3.3319826126098633,\n",
       "  3.1213290691375732,\n",
       "  3.3041622638702393,\n",
       "  3.1387271881103516,\n",
       "  3.52394962310791,\n",
       "  3.1643178462982178,\n",
       "  3.059628963470459,\n",
       "  3.282277822494507,\n",
       "  3.5414257049560547,\n",
       "  2.923719644546509,\n",
       "  3.02992844581604,\n",
       "  3.448467493057251,\n",
       "  3.2040951251983643,\n",
       "  3.3890631198883057,\n",
       "  3.0954654216766357,\n",
       "  3.3171937465667725,\n",
       "  3.1276209354400635,\n",
       "  3.2881901264190674,\n",
       "  3.1512856483459473,\n",
       "  3.3490240573883057,\n",
       "  3.2073817253112793,\n",
       "  3.1827991008758545,\n",
       "  3.1935999393463135,\n",
       "  3.251919984817505,\n",
       "  3.299957513809204,\n",
       "  2.964116096496582,\n",
       "  3.2287282943725586,\n",
       "  3.1470577716827393,\n",
       "  3.2776851654052734,\n",
       "  3.473717212677002,\n",
       "  3.076101541519165,\n",
       "  3.58257794380188,\n",
       "  3.008344888687134,\n",
       "  3.4333157539367676,\n",
       "  3.4607326984405518,\n",
       "  3.6228456497192383,\n",
       "  3.1014325618743896,\n",
       "  3.362192392349243,\n",
       "  3.3150570392608643,\n",
       "  3.513437032699585,\n",
       "  2.756227970123291,\n",
       "  3.142232656478882,\n",
       "  3.088407039642334,\n",
       "  3.1347546577453613,\n",
       "  3.1209731101989746,\n",
       "  3.2811074256896973,\n",
       "  3.149928092956543,\n",
       "  3.1667420864105225,\n",
       "  3.14874005317688,\n",
       "  3.0277156829833984],\n",
       " [4.3961687088012695,\n",
       "  3.3644638061523438,\n",
       "  2.8801989555358887,\n",
       "  2.931257486343384,\n",
       "  2.661182403564453,\n",
       "  2.4706871509552,\n",
       "  2.5403823852539062,\n",
       "  2.548307418823242,\n",
       "  2.6829192638397217,\n",
       "  2.5793986320495605,\n",
       "  2.573007345199585,\n",
       "  2.642353057861328,\n",
       "  2.528136968612671,\n",
       "  2.5052199363708496,\n",
       "  2.3988606929779053,\n",
       "  2.755847215652466,\n",
       "  2.558208703994751,\n",
       "  2.700655221939087,\n",
       "  2.521444082260132,\n",
       "  2.701270341873169,\n",
       "  2.422525405883789,\n",
       "  2.379502773284912,\n",
       "  2.409273862838745,\n",
       "  2.6194450855255127,\n",
       "  2.3979969024658203,\n",
       "  2.6284890174865723,\n",
       "  2.542387008666992,\n",
       "  2.33280086517334,\n",
       "  2.530794143676758,\n",
       "  2.6989009380340576,\n",
       "  2.5327908992767334,\n",
       "  2.596797227859497,\n",
       "  2.5167479515075684,\n",
       "  2.5147173404693604,\n",
       "  2.527458429336548,\n",
       "  2.360278844833374,\n",
       "  2.453726291656494,\n",
       "  2.415081024169922,\n",
       "  2.8895747661590576,\n",
       "  2.4610605239868164,\n",
       "  2.523711919784546,\n",
       "  2.4812726974487305,\n",
       "  2.643937826156616,\n",
       "  2.9881539344787598,\n",
       "  2.425022840499878,\n",
       "  2.4563708305358887,\n",
       "  2.4039223194122314,\n",
       "  2.6368305683135986,\n",
       "  2.361452579498291,\n",
       "  2.623868465423584,\n",
       "  2.486774206161499,\n",
       "  2.4850518703460693,\n",
       "  2.6602232456207275,\n",
       "  2.5095913410186768,\n",
       "  2.5182647705078125,\n",
       "  2.4008548259735107,\n",
       "  2.7219882011413574,\n",
       "  2.550759792327881,\n",
       "  2.5137462615966797,\n",
       "  2.5428593158721924,\n",
       "  2.4230802059173584,\n",
       "  2.5749447345733643,\n",
       "  2.4742910861968994,\n",
       "  2.7036757469177246,\n",
       "  2.5162277221679688,\n",
       "  2.553917407989502,\n",
       "  2.4975814819335938,\n",
       "  2.4881768226623535,\n",
       "  2.6062510013580322,\n",
       "  2.6400821208953857,\n",
       "  2.4196529388427734,\n",
       "  2.683149576187134,\n",
       "  2.494079828262329,\n",
       "  2.4218266010284424,\n",
       "  2.5151219367980957,\n",
       "  2.454707384109497,\n",
       "  2.6530375480651855,\n",
       "  2.7779653072357178,\n",
       "  2.610340118408203,\n",
       "  2.5502920150756836,\n",
       "  2.8151981830596924,\n",
       "  2.565800189971924,\n",
       "  2.4826719760894775,\n",
       "  2.6337268352508545,\n",
       "  2.635531187057495,\n",
       "  2.4625604152679443,\n",
       "  2.7087810039520264,\n",
       "  2.49516224861145,\n",
       "  2.3857386112213135,\n",
       "  2.452019214630127,\n",
       "  2.4834842681884766,\n",
       "  2.5427629947662354,\n",
       "  2.566410779953003,\n",
       "  2.5143136978149414,\n",
       "  2.5769855976104736,\n",
       "  2.628762722015381,\n",
       "  2.6927525997161865,\n",
       "  2.474555253982544,\n",
       "  2.5506041049957275,\n",
       "  2.416428804397583,\n",
       "  2.6467113494873047,\n",
       "  2.5324087142944336,\n",
       "  2.5718135833740234,\n",
       "  2.818650960922241,\n",
       "  2.736680507659912,\n",
       "  2.5264973640441895,\n",
       "  2.6636664867401123,\n",
       "  2.6852855682373047,\n",
       "  2.74413800239563,\n",
       "  2.478757381439209,\n",
       "  2.7323153018951416,\n",
       "  2.602574110031128,\n",
       "  2.464400291442871,\n",
       "  2.709867477416992,\n",
       "  2.5123445987701416,\n",
       "  2.485332489013672,\n",
       "  2.826289176940918,\n",
       "  2.6334831714630127,\n",
       "  2.5779972076416016,\n",
       "  2.7567949295043945,\n",
       "  2.6284854412078857,\n",
       "  2.7496676445007324,\n",
       "  2.534879207611084,\n",
       "  2.572596549987793,\n",
       "  2.5964670181274414,\n",
       "  2.59897518157959,\n",
       "  2.6725916862487793,\n",
       "  2.666774034500122,\n",
       "  2.7016420364379883,\n",
       "  2.6778805255889893,\n",
       "  2.5532634258270264,\n",
       "  2.6337273120880127,\n",
       "  2.613844156265259,\n",
       "  2.6946215629577637,\n",
       "  2.6548573970794678,\n",
       "  2.697455406188965,\n",
       "  2.668830394744873,\n",
       "  2.9019126892089844,\n",
       "  2.7392544746398926,\n",
       "  2.689852476119995,\n",
       "  2.7409827709198,\n",
       "  2.592087507247925,\n",
       "  2.6596100330352783,\n",
       "  2.788811683654785,\n",
       "  2.551020860671997,\n",
       "  2.6472859382629395,\n",
       "  2.686810255050659,\n",
       "  2.5235280990600586,\n",
       "  2.7516746520996094,\n",
       "  2.6292686462402344,\n",
       "  2.719083070755005,\n",
       "  2.5735087394714355,\n",
       "  2.6984829902648926,\n",
       "  2.7025890350341797,\n",
       "  2.7396366596221924,\n",
       "  3.0192151069641113,\n",
       "  2.79148006439209,\n",
       "  2.604764223098755,\n",
       "  2.7631149291992188,\n",
       "  2.885319471359253,\n",
       "  2.668271780014038,\n",
       "  2.71008038520813,\n",
       "  2.9181013107299805,\n",
       "  2.7896289825439453,\n",
       "  2.859673023223877,\n",
       "  2.8816750049591064,\n",
       "  2.630096435546875,\n",
       "  3.376861333847046,\n",
       "  2.7024717330932617,\n",
       "  2.661036491394043,\n",
       "  2.69260311126709,\n",
       "  2.631692409515381,\n",
       "  2.819251537322998,\n",
       "  2.822775363922119,\n",
       "  2.6568329334259033,\n",
       "  2.699760913848877,\n",
       "  2.7457456588745117,\n",
       "  2.8403663635253906,\n",
       "  2.7933144569396973,\n",
       "  2.7818498611450195,\n",
       "  2.736570358276367,\n",
       "  2.8406686782836914,\n",
       "  2.862109899520874,\n",
       "  2.887220621109009,\n",
       "  2.7576820850372314,\n",
       "  2.7340447902679443,\n",
       "  2.681931972503662,\n",
       "  2.7726101875305176,\n",
       "  2.8152048587799072,\n",
       "  2.780644416809082,\n",
       "  2.838677406311035,\n",
       "  2.8064777851104736,\n",
       "  2.9094669818878174,\n",
       "  2.9346892833709717,\n",
       "  2.813535451889038,\n",
       "  2.6623477935791016,\n",
       "  2.735257387161255,\n",
       "  2.862290382385254,\n",
       "  2.882551431655884,\n",
       "  2.7417702674865723,\n",
       "  2.8440065383911133,\n",
       "  2.66076397895813,\n",
       "  2.8309035301208496,\n",
       "  2.806394100189209,\n",
       "  2.889256477355957,\n",
       "  2.9411723613739014,\n",
       "  2.8044285774230957,\n",
       "  2.8752872943878174,\n",
       "  2.8387861251831055,\n",
       "  2.662921667098999,\n",
       "  2.778738260269165,\n",
       "  2.8283004760742188,\n",
       "  2.8656957149505615,\n",
       "  2.834010362625122,\n",
       "  2.9948489665985107,\n",
       "  2.8784420490264893,\n",
       "  2.8222908973693848,\n",
       "  2.9890024662017822,\n",
       "  2.8266773223876953,\n",
       "  2.7631077766418457,\n",
       "  2.7615060806274414,\n",
       "  2.777036666870117,\n",
       "  2.7566192150115967,\n",
       "  2.8834168910980225,\n",
       "  2.8539912700653076,\n",
       "  2.7143518924713135,\n",
       "  2.916414260864258,\n",
       "  2.97049617767334,\n",
       "  2.7856943607330322,\n",
       "  2.9171054363250732,\n",
       "  2.8984971046447754,\n",
       "  2.916466236114502,\n",
       "  2.80767822265625,\n",
       "  2.897184371948242,\n",
       "  2.7906806468963623,\n",
       "  2.796057939529419,\n",
       "  2.959176778793335,\n",
       "  2.8973376750946045,\n",
       "  2.9300436973571777,\n",
       "  2.9760541915893555,\n",
       "  2.844852924346924,\n",
       "  2.816201686859131,\n",
       "  2.9449658393859863,\n",
       "  2.8638858795166016,\n",
       "  2.965381383895874,\n",
       "  2.7673230171203613,\n",
       "  2.851693868637085,\n",
       "  2.7883243560791016,\n",
       "  2.817308187484741,\n",
       "  3.0498523712158203,\n",
       "  2.8651204109191895,\n",
       "  2.8267199993133545,\n",
       "  2.8541994094848633,\n",
       "  2.800766944885254,\n",
       "  2.815981149673462,\n",
       "  2.875793218612671,\n",
       "  2.8346431255340576,\n",
       "  2.8896164894104004,\n",
       "  2.8227686882019043,\n",
       "  2.9168834686279297,\n",
       "  2.9309825897216797,\n",
       "  2.9946250915527344,\n",
       "  2.9497458934783936,\n",
       "  2.8634033203125,\n",
       "  2.850269079208374,\n",
       "  2.922029972076416,\n",
       "  2.9540867805480957,\n",
       "  2.9426019191741943,\n",
       "  2.7034192085266113,\n",
       "  2.8325092792510986,\n",
       "  2.9107825756073,\n",
       "  2.8194854259490967,\n",
       "  2.922036647796631,\n",
       "  2.8771417140960693,\n",
       "  2.8245954513549805,\n",
       "  2.7560997009277344,\n",
       "  2.751077890396118,\n",
       "  2.8253061771392822,\n",
       "  2.908515453338623,\n",
       "  2.8594439029693604,\n",
       "  2.793823480606079,\n",
       "  2.7935233116149902,\n",
       "  2.944181203842163,\n",
       "  2.9434475898742676,\n",
       "  2.8189334869384766,\n",
       "  2.8939852714538574,\n",
       "  2.9830448627471924,\n",
       "  2.7494983673095703,\n",
       "  2.9102447032928467,\n",
       "  2.85164475440979,\n",
       "  2.867152214050293,\n",
       "  2.8187479972839355,\n",
       "  2.8970277309417725,\n",
       "  2.8893938064575195,\n",
       "  2.919034957885742,\n",
       "  2.821018934249878,\n",
       "  2.7719955444335938,\n",
       "  2.9312961101531982,\n",
       "  2.776853561401367,\n",
       "  2.9261538982391357,\n",
       "  2.8448667526245117,\n",
       "  2.8447518348693848,\n",
       "  2.8725554943084717,\n",
       "  2.73624324798584,\n",
       "  2.732146978378296,\n",
       "  2.8682668209075928,\n",
       "  2.783872604370117,\n",
       "  2.928203821182251,\n",
       "  2.926628589630127,\n",
       "  2.7975881099700928,\n",
       "  2.8776161670684814,\n",
       "  3.0808634757995605,\n",
       "  2.8160324096679688,\n",
       "  2.930300235748291,\n",
       "  2.8107447624206543,\n",
       "  2.8348195552825928,\n",
       "  2.9159798622131348,\n",
       "  2.8146891593933105,\n",
       "  2.7806589603424072,\n",
       "  2.8633930683135986,\n",
       "  2.7993557453155518,\n",
       "  2.6635067462921143,\n",
       "  2.751389980316162,\n",
       "  2.819411277770996,\n",
       "  2.7795701026916504,\n",
       "  2.9218573570251465,\n",
       "  2.7262966632843018,\n",
       "  2.7289812564849854,\n",
       "  2.6223909854888916,\n",
       "  2.7560150623321533,\n",
       "  2.7796623706817627,\n",
       "  2.6609792709350586,\n",
       "  2.8353166580200195,\n",
       "  2.6928160190582275,\n",
       "  2.696298360824585,\n",
       "  2.744581699371338,\n",
       "  2.8135995864868164,\n",
       "  2.7260093688964844,\n",
       "  2.7215166091918945,\n",
       "  2.768605947494507,\n",
       "  2.7579307556152344,\n",
       "  2.8399949073791504,\n",
       "  2.7669267654418945,\n",
       "  2.8726446628570557,\n",
       "  2.7761101722717285,\n",
       "  2.7877838611602783,\n",
       "  2.7682254314422607,\n",
       "  2.771944284439087,\n",
       "  2.7759249210357666,\n",
       "  2.723079204559326,\n",
       "  2.672358751296997,\n",
       "  2.82948899269104,\n",
       "  2.7621304988861084,\n",
       "  2.761160373687744,\n",
       "  2.745509147644043,\n",
       "  2.661275625228882,\n",
       "  2.7534379959106445,\n",
       "  2.759598731994629,\n",
       "  2.773838996887207,\n",
       "  2.7411046028137207,\n",
       "  2.7560999393463135,\n",
       "  2.8219411373138428,\n",
       "  2.8640410900115967,\n",
       "  2.82388973236084,\n",
       "  2.80906081199646,\n",
       "  2.7677741050720215,\n",
       "  2.966179847717285,\n",
       "  2.8991611003875732,\n",
       "  2.846496343612671,\n",
       "  2.911644458770752,\n",
       "  2.8432960510253906,\n",
       "  2.9001410007476807,\n",
       "  2.756533145904541,\n",
       "  2.8719778060913086,\n",
       "  2.7729804515838623,\n",
       "  2.8435263633728027,\n",
       "  2.895505666732788,\n",
       "  2.822533369064331,\n",
       "  2.810955047607422,\n",
       "  2.8581318855285645,\n",
       "  2.836045265197754,\n",
       "  2.803858757019043,\n",
       "  2.8331713676452637,\n",
       "  2.8335323333740234,\n",
       "  2.8755433559417725,\n",
       "  2.8347623348236084,\n",
       "  2.7882795333862305,\n",
       "  2.811785936355591,\n",
       "  2.773136615753174,\n",
       "  2.7054038047790527,\n",
       "  2.794950008392334,\n",
       "  2.82999587059021,\n",
       "  2.771475076675415,\n",
       "  2.7510414123535156,\n",
       "  2.8075332641601562,\n",
       "  2.843344211578369,\n",
       "  2.8871400356292725,\n",
       "  2.7721798419952393,\n",
       "  2.8008906841278076,\n",
       "  2.845083713531494,\n",
       "  2.8607418537139893,\n",
       "  2.7524666786193848,\n",
       "  2.76822566986084,\n",
       "  2.722642660140991,\n",
       "  2.8935580253601074,\n",
       "  2.739414930343628,\n",
       "  2.7721989154815674,\n",
       "  2.7599143981933594,\n",
       "  2.6656665802001953,\n",
       "  2.777094841003418,\n",
       "  2.7253806591033936,\n",
       "  2.6219685077667236,\n",
       "  2.8414692878723145,\n",
       "  2.8625497817993164,\n",
       "  2.659986972808838,\n",
       "  2.6657681465148926,\n",
       "  2.705409049987793,\n",
       "  2.712827205657959,\n",
       "  2.775615692138672,\n",
       "  2.757385492324829,\n",
       "  2.7053768634796143,\n",
       "  2.669063091278076,\n",
       "  2.6989545822143555,\n",
       "  2.6228935718536377,\n",
       "  2.829374074935913,\n",
       "  2.729813575744629,\n",
       "  2.7234442234039307,\n",
       "  2.728619337081909,\n",
       "  2.788698673248291,\n",
       "  2.8935062885284424,\n",
       "  2.7233192920684814,\n",
       "  2.657309055328369,\n",
       "  2.7939252853393555,\n",
       "  2.784060001373291,\n",
       "  2.7369508743286133,\n",
       "  2.748185634613037,\n",
       "  2.656494140625,\n",
       "  2.6852846145629883,\n",
       "  2.7361249923706055,\n",
       "  2.7178852558135986,\n",
       "  2.622572422027588,\n",
       "  2.7263996601104736,\n",
       "  2.8475852012634277,\n",
       "  2.7576568126678467,\n",
       "  2.638742685317993,\n",
       "  2.683581590652466,\n",
       "  2.6636219024658203,\n",
       "  2.8008604049682617,\n",
       "  2.6789066791534424,\n",
       "  2.6424903869628906,\n",
       "  2.747147560119629,\n",
       "  2.663832664489746,\n",
       "  2.746562957763672,\n",
       "  2.7250816822052,\n",
       "  2.640472650527954,\n",
       "  2.8148434162139893,\n",
       "  2.6680095195770264,\n",
       "  2.68408203125,\n",
       "  2.7026331424713135,\n",
       "  2.6957077980041504,\n",
       "  2.754911184310913,\n",
       "  2.8430166244506836,\n",
       "  2.7309088706970215,\n",
       "  2.6966135501861572,\n",
       "  2.688391923904419,\n",
       "  2.595489740371704,\n",
       "  2.8037452697753906,\n",
       "  2.647071123123169,\n",
       "  2.6520581245422363,\n",
       "  2.7344799041748047,\n",
       "  2.6431515216827393,\n",
       "  2.713054895401001,\n",
       "  2.7126529216766357,\n",
       "  2.702953338623047,\n",
       "  2.685610294342041,\n",
       "  2.6232199668884277,\n",
       "  2.6892900466918945,\n",
       "  2.601710796356201,\n",
       "  2.8125669956207275,\n",
       "  2.660783529281616,\n",
       "  2.6753461360931396,\n",
       "  2.79465651512146,\n",
       "  2.717996120452881,\n",
       "  2.662550926208496,\n",
       "  2.6389827728271484,\n",
       "  2.702059030532837,\n",
       "  2.6069388389587402,\n",
       "  2.659635066986084,\n",
       "  2.753382921218872,\n",
       "  2.690674066543579,\n",
       "  2.692272901535034,\n",
       "  2.6877827644348145,\n",
       "  2.7225894927978516,\n",
       "  2.724245548248291,\n",
       "  2.70218825340271,\n",
       "  2.6285107135772705,\n",
       "  2.6436758041381836,\n",
       "  2.6168575286865234,\n",
       "  2.7018306255340576,\n",
       "  2.748918056488037],\n",
       " [5.525208950042725,\n",
       "  3.7696456909179688,\n",
       "  3.4794163703918457,\n",
       "  3.056290626525879,\n",
       "  3.0856757164001465,\n",
       "  3.075582265853882,\n",
       "  3.128951072692871,\n",
       "  2.972309112548828,\n",
       "  2.9234633445739746,\n",
       "  2.719327926635742,\n",
       "  2.5935568809509277,\n",
       "  2.5640146732330322,\n",
       "  2.7235445976257324,\n",
       "  2.610290288925171,\n",
       "  2.71606183052063,\n",
       "  2.484246253967285,\n",
       "  2.7428998947143555,\n",
       "  2.578713893890381,\n",
       "  2.5112693309783936,\n",
       "  2.6270790100097656,\n",
       "  2.5567729473114014,\n",
       "  2.6169967651367188,\n",
       "  2.467496633529663,\n",
       "  2.508411169052124,\n",
       "  2.43173885345459,\n",
       "  2.4796950817108154,\n",
       "  2.650089979171753,\n",
       "  2.5899555683135986,\n",
       "  2.449660301208496,\n",
       "  2.602543830871582,\n",
       "  2.6689486503601074,\n",
       "  2.4180164337158203,\n",
       "  2.452136516571045,\n",
       "  2.5310633182525635,\n",
       "  2.4550423622131348,\n",
       "  2.5491859912872314,\n",
       "  2.505121946334839,\n",
       "  2.6086344718933105,\n",
       "  2.5125396251678467,\n",
       "  2.4654862880706787,\n",
       "  2.4440903663635254,\n",
       "  2.995126962661743,\n",
       "  2.4800987243652344,\n",
       "  2.5251760482788086,\n",
       "  2.4392294883728027,\n",
       "  2.429128408432007,\n",
       "  2.743215799331665,\n",
       "  2.710132598876953,\n",
       "  2.836617946624756,\n",
       "  2.606555700302124,\n",
       "  2.445247173309326,\n",
       "  2.536867380142212,\n",
       "  2.4729690551757812,\n",
       "  2.482506275177002,\n",
       "  2.3916923999786377,\n",
       "  2.363661289215088,\n",
       "  2.6743035316467285,\n",
       "  2.5549569129943848,\n",
       "  2.479278087615967,\n",
       "  2.610888719558716,\n",
       "  2.484072208404541,\n",
       "  2.443437099456787,\n",
       "  2.4832072257995605,\n",
       "  2.5945205688476562,\n",
       "  2.4433093070983887,\n",
       "  2.3815436363220215,\n",
       "  2.5501291751861572,\n",
       "  2.473655939102173,\n",
       "  2.4831371307373047,\n",
       "  2.3474156856536865,\n",
       "  2.4036285877227783,\n",
       "  2.4571218490600586,\n",
       "  2.3824756145477295,\n",
       "  2.6167349815368652,\n",
       "  2.5001914501190186,\n",
       "  2.4283761978149414,\n",
       "  2.469973087310791,\n",
       "  2.4360275268554688,\n",
       "  2.511345148086548,\n",
       "  2.4372775554656982,\n",
       "  2.511340379714966,\n",
       "  2.3798587322235107,\n",
       "  2.4227540493011475,\n",
       "  2.5070080757141113,\n",
       "  2.5430171489715576,\n",
       "  2.446470260620117,\n",
       "  2.45346999168396,\n",
       "  2.4719035625457764,\n",
       "  2.4958291053771973,\n",
       "  2.4544639587402344,\n",
       "  2.528049945831299,\n",
       "  2.3922901153564453,\n",
       "  2.4819114208221436,\n",
       "  2.3953394889831543,\n",
       "  2.6049680709838867,\n",
       "  2.511871814727783,\n",
       "  2.540257215499878,\n",
       "  2.527348041534424,\n",
       "  2.557859182357788,\n",
       "  2.466989755630493,\n",
       "  2.4922494888305664,\n",
       "  2.4565651416778564,\n",
       "  2.5179126262664795,\n",
       "  2.398859977722168,\n",
       "  2.388127565383911,\n",
       "  2.3550362586975098,\n",
       "  2.4798309803009033,\n",
       "  2.6595165729522705,\n",
       "  2.7512192726135254,\n",
       "  2.436980724334717,\n",
       "  2.5506396293640137,\n",
       "  2.7332956790924072,\n",
       "  2.3781371116638184,\n",
       "  2.56766676902771,\n",
       "  2.771312952041626,\n",
       "  2.5319151878356934,\n",
       "  2.5542547702789307,\n",
       "  2.4947450160980225,\n",
       "  2.410876750946045,\n",
       "  2.5200693607330322,\n",
       "  2.3597631454467773,\n",
       "  2.551494836807251,\n",
       "  2.3425984382629395,\n",
       "  2.399664878845215,\n",
       "  2.5065269470214844,\n",
       "  2.412583827972412,\n",
       "  2.307152032852173,\n",
       "  2.3811519145965576,\n",
       "  2.6018970012664795,\n",
       "  2.390244245529175,\n",
       "  2.2932980060577393,\n",
       "  2.6184003353118896,\n",
       "  2.3354108333587646,\n",
       "  2.3597588539123535,\n",
       "  2.374685525894165,\n",
       "  2.5859057903289795,\n",
       "  2.345355272293091,\n",
       "  2.3451972007751465,\n",
       "  2.509885787963867,\n",
       "  2.3054072856903076,\n",
       "  2.325251579284668,\n",
       "  2.4040863513946533,\n",
       "  2.424140691757202,\n",
       "  2.607194423675537,\n",
       "  2.7752346992492676,\n",
       "  2.4496304988861084,\n",
       "  2.3498353958129883,\n",
       "  2.5284323692321777,\n",
       "  2.3656415939331055,\n",
       "  2.4069292545318604,\n",
       "  2.4023475646972656,\n",
       "  2.6188035011291504,\n",
       "  2.513369083404541,\n",
       "  2.4457130432128906,\n",
       "  2.44907808303833,\n",
       "  2.5300753116607666,\n",
       "  2.5096399784088135,\n",
       "  2.4456400871276855,\n",
       "  2.491095542907715,\n",
       "  2.5281522274017334,\n",
       "  2.4379005432128906,\n",
       "  2.661280870437622,\n",
       "  2.434485673904419,\n",
       "  2.3768560886383057,\n",
       "  2.5923688411712646,\n",
       "  2.4745030403137207,\n",
       "  2.439049243927002,\n",
       "  2.291184902191162,\n",
       "  2.603184700012207,\n",
       "  2.3509387969970703,\n",
       "  2.370300531387329,\n",
       "  2.5850794315338135,\n",
       "  2.3795363903045654,\n",
       "  2.429062604904175,\n",
       "  2.4320943355560303,\n",
       "  2.3882222175598145,\n",
       "  2.373110055923462,\n",
       "  2.4385459423065186,\n",
       "  2.420522928237915,\n",
       "  2.85201096534729,\n",
       "  2.4229941368103027,\n",
       "  2.481687307357788,\n",
       "  2.463533878326416,\n",
       "  2.4952638149261475,\n",
       "  2.3591697216033936,\n",
       "  2.402430772781372,\n",
       "  2.6318182945251465,\n",
       "  2.4486887454986572,\n",
       "  2.3006412982940674,\n",
       "  2.7384443283081055,\n",
       "  2.4857234954833984,\n",
       "  2.4987552165985107,\n",
       "  2.4262900352478027,\n",
       "  2.767371416091919,\n",
       "  2.4769513607025146,\n",
       "  2.4656155109405518,\n",
       "  2.5310158729553223,\n",
       "  2.5202832221984863,\n",
       "  2.5582334995269775,\n",
       "  2.3979151248931885,\n",
       "  2.362086057662964,\n",
       "  2.517350196838379,\n",
       "  2.516089677810669,\n",
       "  2.370509624481201,\n",
       "  2.5898659229278564,\n",
       "  2.513131856918335,\n",
       "  2.4533796310424805,\n",
       "  2.421349287033081,\n",
       "  2.4827356338500977,\n",
       "  2.3907954692840576,\n",
       "  2.2084860801696777,\n",
       "  2.315563201904297,\n",
       "  2.452885866165161,\n",
       "  2.3271539211273193,\n",
       "  2.5414538383483887,\n",
       "  2.4184865951538086,\n",
       "  2.482701301574707,\n",
       "  2.358790397644043,\n",
       "  2.474628210067749,\n",
       "  2.523618459701538,\n",
       "  2.414515256881714,\n",
       "  2.455263614654541,\n",
       "  2.5652947425842285,\n",
       "  2.647144079208374,\n",
       "  2.6128287315368652,\n",
       "  2.515371799468994,\n",
       "  2.657588481903076,\n",
       "  2.7775118350982666,\n",
       "  2.5403342247009277,\n",
       "  2.5856852531433105,\n",
       "  2.4263064861297607,\n",
       "  2.474259376525879,\n",
       "  2.506578207015991,\n",
       "  2.6769161224365234,\n",
       "  2.515814781188965,\n",
       "  2.573347568511963,\n",
       "  2.4048991203308105,\n",
       "  2.5547664165496826,\n",
       "  2.5000393390655518,\n",
       "  2.57863450050354,\n",
       "  2.575946092605591,\n",
       "  2.4369451999664307,\n",
       "  2.5702502727508545,\n",
       "  2.5676043033599854,\n",
       "  2.6059746742248535,\n",
       "  2.641752004623413,\n",
       "  2.4673991203308105,\n",
       "  2.41857647895813,\n",
       "  2.558586835861206,\n",
       "  2.5064988136291504,\n",
       "  2.4051218032836914,\n",
       "  2.5340945720672607,\n",
       "  2.543045997619629,\n",
       "  2.6688358783721924,\n",
       "  2.600302219390869,\n",
       "  2.5334694385528564,\n",
       "  2.4066922664642334,\n",
       "  2.567732334136963,\n",
       "  2.482132911682129,\n",
       "  2.525677442550659,\n",
       "  2.3909366130828857,\n",
       "  2.584906816482544,\n",
       "  2.4628682136535645,\n",
       "  2.491581439971924,\n",
       "  2.644880533218384,\n",
       "  2.421137809753418,\n",
       "  2.521785259246826,\n",
       "  2.477410078048706,\n",
       "  2.4949936866760254,\n",
       "  2.535696268081665,\n",
       "  2.547910451889038,\n",
       "  2.5314841270446777,\n",
       "  2.498938798904419,\n",
       "  2.66485857963562,\n",
       "  2.6607859134674072,\n",
       "  2.4835503101348877,\n",
       "  2.639805555343628,\n",
       "  2.4679622650146484,\n",
       "  2.499396800994873,\n",
       "  2.7008042335510254,\n",
       "  2.6028754711151123,\n",
       "  2.4842381477355957,\n",
       "  2.573061466217041,\n",
       "  2.6572368144989014,\n",
       "  2.591463565826416,\n",
       "  2.6207544803619385,\n",
       "  2.5718955993652344,\n",
       "  2.4815590381622314,\n",
       "  2.55442214012146,\n",
       "  2.628610134124756,\n",
       "  2.5529279708862305,\n",
       "  2.5369484424591064,\n",
       "  2.6970696449279785,\n",
       "  2.6739795207977295,\n",
       "  2.6883864402770996,\n",
       "  2.6726670265197754,\n",
       "  2.629399061203003,\n",
       "  2.609124183654785,\n",
       "  2.4520797729492188,\n",
       "  2.9428329467773438,\n",
       "  2.5231380462646484,\n",
       "  2.57550048828125,\n",
       "  2.6481945514678955,\n",
       "  2.6504859924316406,\n",
       "  2.676562547683716,\n",
       "  2.8158183097839355,\n",
       "  2.628767490386963,\n",
       "  2.466442584991455,\n",
       "  2.6941280364990234,\n",
       "  2.711101770401001,\n",
       "  2.742004156112671,\n",
       "  2.5180718898773193,\n",
       "  2.4607794284820557,\n",
       "  2.4494099617004395,\n",
       "  2.7336552143096924,\n",
       "  2.504805326461792,\n",
       "  2.636112689971924,\n",
       "  2.643287181854248,\n",
       "  2.6737611293792725,\n",
       "  2.649148464202881,\n",
       "  2.571561336517334,\n",
       "  2.3903632164001465,\n",
       "  2.57780385017395,\n",
       "  2.6011722087860107,\n",
       "  2.469862222671509,\n",
       "  2.7895045280456543,\n",
       "  2.471449375152588,\n",
       "  2.6412887573242188,\n",
       "  2.582538366317749,\n",
       "  2.5543973445892334,\n",
       "  2.5121655464172363,\n",
       "  2.5454933643341064,\n",
       "  2.548337459564209,\n",
       "  2.602886915206909,\n",
       "  2.600001335144043,\n",
       "  2.4538142681121826,\n",
       "  2.662717819213867,\n",
       "  2.5942935943603516,\n",
       "  2.6350643634796143,\n",
       "  2.5385353565216064,\n",
       "  2.5568594932556152,\n",
       "  2.6997005939483643,\n",
       "  2.6585328578948975,\n",
       "  2.700468063354492,\n",
       "  2.668206214904785,\n",
       "  2.59139084815979,\n",
       "  2.59840989112854,\n",
       "  2.9655954837799072,\n",
       "  2.671243190765381,\n",
       "  2.6131832599639893,\n",
       "  2.7040131092071533,\n",
       "  2.607728958129883,\n",
       "  2.670640707015991,\n",
       "  2.5273208618164062,\n",
       "  2.7299158573150635,\n",
       "  2.5315444469451904,\n",
       "  2.5597760677337646,\n",
       "  2.5453732013702393,\n",
       "  2.609361410140991,\n",
       "  2.580303192138672,\n",
       "  2.798668622970581,\n",
       "  2.7610220909118652,\n",
       "  2.7575013637542725,\n",
       "  2.6929287910461426,\n",
       "  2.584139585494995,\n",
       "  2.571524143218994,\n",
       "  2.637953281402588,\n",
       "  2.443039894104004,\n",
       "  2.555342197418213,\n",
       "  2.5655581951141357,\n",
       "  2.708118438720703,\n",
       "  2.628549337387085,\n",
       "  2.5449769496917725,\n",
       "  2.587923288345337,\n",
       "  2.584944725036621,\n",
       "  2.6521615982055664,\n",
       "  2.5731050968170166,\n",
       "  2.716073513031006,\n",
       "  2.4270241260528564,\n",
       "  2.600705623626709,\n",
       "  2.8064260482788086,\n",
       "  2.719493865966797,\n",
       "  2.605919599533081,\n",
       "  2.4366371631622314,\n",
       "  2.6755564212799072,\n",
       "  2.5814313888549805,\n",
       "  2.5367186069488525,\n",
       "  2.8442506790161133,\n",
       "  2.6036534309387207,\n",
       "  2.540764331817627,\n",
       "  2.5858964920043945,\n",
       "  2.614436149597168,\n",
       "  2.7344114780426025,\n",
       "  2.685122013092041,\n",
       "  2.593268632888794,\n",
       "  2.7348437309265137,\n",
       "  2.620225667953491,\n",
       "  2.663567304611206,\n",
       "  2.762533664703369,\n",
       "  2.744347095489502,\n",
       "  2.642589569091797,\n",
       "  2.5537731647491455,\n",
       "  2.4955554008483887,\n",
       "  2.669607639312744,\n",
       "  2.5661487579345703,\n",
       "  2.7296142578125,\n",
       "  2.7140326499938965,\n",
       "  2.5981862545013428,\n",
       "  2.7472281455993652,\n",
       "  2.6319689750671387,\n",
       "  2.6923999786376953,\n",
       "  2.695493698120117,\n",
       "  2.649301767349243,\n",
       "  2.676384687423706,\n",
       "  2.67678165435791,\n",
       "  2.6240925788879395,\n",
       "  2.6072938442230225,\n",
       "  2.532008647918701,\n",
       "  2.612959861755371,\n",
       "  2.7476086616516113,\n",
       "  2.738091468811035,\n",
       "  2.6673195362091064,\n",
       "  2.4843029975891113,\n",
       "  2.7919280529022217,\n",
       "  2.627493143081665,\n",
       "  2.9209842681884766,\n",
       "  2.6010570526123047,\n",
       "  2.714939832687378,\n",
       "  2.892897129058838,\n",
       "  2.7818117141723633,\n",
       "  2.573760986328125,\n",
       "  2.5966718196868896,\n",
       "  2.6501240730285645,\n",
       "  2.8896710872650146,\n",
       "  2.793402671813965,\n",
       "  2.62416934967041,\n",
       "  2.708733558654785,\n",
       "  2.7043581008911133,\n",
       "  2.8141069412231445,\n",
       "  2.7428033351898193,\n",
       "  2.675265073776245,\n",
       "  2.7276835441589355,\n",
       "  2.7667081356048584,\n",
       "  2.608048915863037,\n",
       "  2.836102247238159,\n",
       "  2.6510753631591797,\n",
       "  2.8251852989196777,\n",
       "  2.8273589611053467,\n",
       "  2.646275520324707,\n",
       "  2.6481614112854004,\n",
       "  2.7529547214508057,\n",
       "  2.7365148067474365,\n",
       "  2.6886706352233887,\n",
       "  2.7506604194641113,\n",
       "  2.7419018745422363,\n",
       "  2.6966257095336914,\n",
       "  2.7367777824401855,\n",
       "  2.703601598739624,\n",
       "  2.6305229663848877,\n",
       "  2.627307891845703,\n",
       "  2.8049585819244385,\n",
       "  2.7558765411376953,\n",
       "  2.8806464672088623,\n",
       "  2.687487840652466,\n",
       "  2.7598116397857666,\n",
       "  2.689699411392212,\n",
       "  2.793825626373291,\n",
       "  2.8376986980438232,\n",
       "  2.7094779014587402,\n",
       "  2.6296262741088867,\n",
       "  2.544952154159546,\n",
       "  2.654533863067627,\n",
       "  2.775559425354004,\n",
       "  2.643887996673584,\n",
       "  2.7205638885498047,\n",
       "  2.720884323120117,\n",
       "  2.697063684463501,\n",
       "  2.779508590698242,\n",
       "  2.904583215713501,\n",
       "  2.6162056922912598,\n",
       "  2.6468617916107178,\n",
       "  2.67057728767395,\n",
       "  2.605642795562744,\n",
       "  2.724717855453491,\n",
       "  2.5446829795837402,\n",
       "  2.7046878337860107,\n",
       "  2.6970579624176025,\n",
       "  2.8447492122650146,\n",
       "  2.6478633880615234,\n",
       "  2.6942481994628906,\n",
       "  2.746948480606079,\n",
       "  2.7784764766693115,\n",
       "  2.7259528636932373,\n",
       "  2.797377824783325,\n",
       "  2.8434901237487793,\n",
       "  2.7433664798736572,\n",
       "  2.697476625442505,\n",
       "  2.7025814056396484,\n",
       "  2.7386772632598877,\n",
       "  2.7143261432647705]]"
      ]
     },
     "execution_count": 282,
     "metadata": {},
     "output_type": "execute_result"
    }
   ],
   "source": [
    "all_mae_histories"
   ]
  },
  {
   "cell_type": "code",
   "execution_count": 283,
   "metadata": {},
   "outputs": [],
   "source": [
    "average_mae_history = [np.mean([x[i] for x in all_mae_histories]) for i in range(num_epochs)]"
   ]
  },
  {
   "cell_type": "code",
   "execution_count": null,
   "metadata": {},
   "outputs": [],
   "source": [
    "for i in range(num_epochs):\n",
    "    for x in all_mae_histories:\n",
    "        np.mean(x[i])"
   ]
  },
  {
   "cell_type": "code",
   "execution_count": 293,
   "metadata": {},
   "outputs": [
    {
     "data": {
      "text/plain": [
       "4"
      ]
     },
     "execution_count": 293,
     "metadata": {},
     "output_type": "execute_result"
    }
   ],
   "source": [
    "len( all_mae_histories)"
   ]
  },
  {
   "cell_type": "code",
   "execution_count": 284,
   "metadata": {},
   "outputs": [
    {
     "data": {
      "text/plain": [
       "[4.52792888879776,\n",
       " 3.416253089904785,\n",
       " 3.0709070563316345,\n",
       " 2.91729199886322,\n",
       " 2.656619966030121,\n",
       " 2.6723501086235046,\n",
       " 2.6247654855251312,\n",
       " 2.6356507539749146,\n",
       " 2.6242449283599854,\n",
       " 2.6284653544425964,\n",
       " 2.5048065781593323,\n",
       " 2.492530405521393,\n",
       " 2.531640589237213,\n",
       " 2.4116272926330566,\n",
       " 2.4974958896636963,\n",
       " 2.5229024291038513,\n",
       " 2.4811646044254303,\n",
       " 2.512376546859741,\n",
       " 2.484279990196228,\n",
       " 2.4208083748817444,\n",
       " 2.3657721877098083,\n",
       " 2.455604076385498,\n",
       " 2.4100827276706696,\n",
       " 2.464828699827194,\n",
       " 2.329991966485977,\n",
       " 2.4201017022132874,\n",
       " 2.4808332920074463,\n",
       " 2.3106116950511932,\n",
       " 2.49010568857193,\n",
       " 2.5061538219451904,\n",
       " 2.4428391456604004,\n",
       " 2.3252495527267456,\n",
       " 2.4217020869255066,\n",
       " 2.4131784439086914,\n",
       " 2.388449013233185,\n",
       " 2.3500550389289856,\n",
       " 2.3487608432769775,\n",
       " 2.3413842022418976,\n",
       " 2.550005555152893,\n",
       " 2.4945991039276123,\n",
       " 2.323263645172119,\n",
       " 2.5243667364120483,\n",
       " 2.394815504550934,\n",
       " 2.499182879924774,\n",
       " 2.3206416964530945,\n",
       " 2.3934324979782104,\n",
       " 2.400306522846222,\n",
       " 2.4653385281562805,\n",
       " 2.4317176043987274,\n",
       " 2.4704434871673584,\n",
       " 2.828456401824951,\n",
       " 2.4351574778556824,\n",
       " 2.3918938636779785,\n",
       " 2.389853298664093,\n",
       " 2.3974213004112244,\n",
       " 2.3378211855888367,\n",
       " 2.611737906932831,\n",
       " 2.5944747924804688,\n",
       " 2.422667145729065,\n",
       " 2.4025969803333282,\n",
       " 2.381841540336609,\n",
       " 2.4016132950782776,\n",
       " 2.4643295407295227,\n",
       " 2.459622025489807,\n",
       " 2.4230074882507324,\n",
       " 2.4113029837608337,\n",
       " 2.453269898891449,\n",
       " 2.3512491583824158,\n",
       " 2.4248241186141968,\n",
       " 2.3927712440490723,\n",
       " 2.3012320399284363,\n",
       " 2.497872054576874,\n",
       " 2.459007143974304,\n",
       " 2.4538650512695312,\n",
       " 2.4396966099739075,\n",
       " 2.5111820101737976,\n",
       " 2.4687864780426025,\n",
       " 2.5220600962638855,\n",
       " 2.42167866230011,\n",
       " 2.381494641304016,\n",
       " 2.476344645023346,\n",
       " 2.4077216386795044,\n",
       " 2.3514259457588196,\n",
       " 2.446668267250061,\n",
       " 2.4629966020584106,\n",
       " 2.3647379875183105,\n",
       " 2.522448241710663,\n",
       " 2.3737467527389526,\n",
       " 2.6626734137535095,\n",
       " 2.349639594554901,\n",
       " 2.559563994407654,\n",
       " 2.5198201537132263,\n",
       " 2.510957360267639,\n",
       " 2.529694616794586,\n",
       " 2.460589349269867,\n",
       " 2.5788236260414124,\n",
       " 2.545634150505066,\n",
       " 2.525068759918213,\n",
       " 2.5295410752296448,\n",
       " 2.4645954966545105,\n",
       " 2.597441852092743,\n",
       " 2.5678113102912903,\n",
       " 2.5878055691719055,\n",
       " 2.416905701160431,\n",
       " 2.567678451538086,\n",
       " 2.420662760734558,\n",
       " 2.5103232860565186,\n",
       " 2.544811189174652,\n",
       " 2.6625216603279114,\n",
       " 2.4376057982444763,\n",
       " 2.559920310974121,\n",
       " 2.602730631828308,\n",
       " 2.4477285742759705,\n",
       " 2.564620018005371,\n",
       " 2.6530690789222717,\n",
       " 2.4241188764572144,\n",
       " 2.7061809301376343,\n",
       " 2.6284505128860474,\n",
       " 2.541282892227173,\n",
       " 2.565695345401764,\n",
       " 2.599292755126953,\n",
       " 2.5580270886421204,\n",
       " 2.470756471157074,\n",
       " 2.4448496103286743,\n",
       " 2.5307639837265015,\n",
       " 2.4773284196853638,\n",
       " 2.619010090827942,\n",
       " 2.4791113138198853,\n",
       " 2.5620540380477905,\n",
       " 2.6203823685646057,\n",
       " 2.616885721683502,\n",
       " 2.6020280718803406,\n",
       " 2.6837663650512695,\n",
       " 2.6795434951782227,\n",
       " 2.5699857473373413,\n",
       " 2.6126922369003296,\n",
       " 2.5507660508155823,\n",
       " 2.6922324895858765,\n",
       " 2.6077069640159607,\n",
       " 2.595645010471344,\n",
       " 2.597086250782013,\n",
       " 2.5909969806671143,\n",
       " 2.5855886340141296,\n",
       " 2.651516377925873,\n",
       " 2.6165087819099426,\n",
       " 2.6674237847328186,\n",
       " 2.6561959981918335,\n",
       " 2.6933059096336365,\n",
       " 2.6422318816184998,\n",
       " 2.7745349407196045,\n",
       " 2.7558295726776123,\n",
       " 2.6598660349845886,\n",
       " 2.62948077917099,\n",
       " 2.7500175833702087,\n",
       " 2.6383585333824158,\n",
       " 2.7577609419822693,\n",
       " 2.688733994960785,\n",
       " 2.772660255432129,\n",
       " 2.657881259918213,\n",
       " 2.7951552867889404,\n",
       " 2.674215614795685,\n",
       " 2.7161912322044373,\n",
       " 2.662919580936432,\n",
       " 2.8085237741470337,\n",
       " 2.751288115978241,\n",
       " 2.807417333126068,\n",
       " 2.7490381598472595,\n",
       " 2.850041687488556,\n",
       " 2.6838362216949463,\n",
       " 2.631081283092499,\n",
       " 2.7419885993003845,\n",
       " 2.7043282985687256,\n",
       " 2.7544520497322083,\n",
       " 2.634370505809784,\n",
       " 2.712152659893036,\n",
       " 2.6929357647895813,\n",
       " 2.6649813055992126,\n",
       " 2.666226089000702,\n",
       " 2.7117360830307007,\n",
       " 2.908944547176361,\n",
       " 2.6880762577056885,\n",
       " 2.723389148712158,\n",
       " 2.8286479711532593,\n",
       " 2.7579908967018127,\n",
       " 2.6362878680229187,\n",
       " 2.6589378714561462,\n",
       " 2.7449309825897217,\n",
       " 2.693048417568207,\n",
       " 2.6850069165229797,\n",
       " 2.812455177307129,\n",
       " 2.7536522150039673,\n",
       " 2.751208007335663,\n",
       " 2.893155097961426,\n",
       " 2.88250333070755,\n",
       " 2.7828510999679565,\n",
       " 2.6859284043312073,\n",
       " 2.771974205970764,\n",
       " 2.6676470041275024,\n",
       " 2.8017101883888245,\n",
       " 2.829460620880127,\n",
       " 2.78324431180954,\n",
       " 2.707034111022949,\n",
       " 2.7555225491523743,\n",
       " 2.7526851892471313,\n",
       " 2.767246663570404,\n",
       " 2.7737470269203186,\n",
       " 2.7091609835624695,\n",
       " 2.775404632091522,\n",
       " 2.9166159629821777,\n",
       " 2.680065631866455,\n",
       " 2.7368321418762207,\n",
       " 2.7806925177574158,\n",
       " 2.743496060371399,\n",
       " 2.7243582606315613,\n",
       " 2.8383365273475647,\n",
       " 2.8188438415527344,\n",
       " 2.8263134956359863,\n",
       " 2.7224764823913574,\n",
       " 2.7187857627868652,\n",
       " 2.5635469555854797,\n",
       " 2.655119299888611,\n",
       " 2.73905873298645,\n",
       " 2.7195065021514893,\n",
       " 2.7760438323020935,\n",
       " 2.7390859723091125,\n",
       " 2.807618200778961,\n",
       " 2.965265393257141,\n",
       " 2.8183122873306274,\n",
       " 2.813068687915802,\n",
       " 2.9035847783088684,\n",
       " 2.782906711101532,\n",
       " 2.7674072980880737,\n",
       " 2.852993130683899,\n",
       " 2.9071878790855408,\n",
       " 2.751694977283478,\n",
       " 2.7607309222221375,\n",
       " 2.645358383655548,\n",
       " 2.7680100202560425,\n",
       " 2.731577754020691,\n",
       " 2.6976152062416077,\n",
       " 2.7922937870025635,\n",
       " 2.760994613170624,\n",
       " 2.7557133436203003,\n",
       " 2.7786590456962585,\n",
       " 2.794361889362335,\n",
       " 2.754696309566498,\n",
       " 2.709198832511902,\n",
       " 2.6316835284233093,\n",
       " 2.8745537996292114,\n",
       " 2.79835844039917,\n",
       " 2.7232497930526733,\n",
       " 2.6697476506233215,\n",
       " 2.8029483556747437,\n",
       " 2.917740285396576,\n",
       " 2.817391335964203,\n",
       " 2.8064610362052917,\n",
       " 2.7241488099098206,\n",
       " 2.7764198184013367,\n",
       " 2.696439802646637,\n",
       " 2.8286956548690796,\n",
       " 2.7929105162620544,\n",
       " 2.8600838780403137,\n",
       " 2.8049333095550537,\n",
       " 2.8096824884414673,\n",
       " 2.725375235080719,\n",
       " 2.7589848041534424,\n",
       " 2.8499709963798523,\n",
       " 2.7356939911842346,\n",
       " 2.7418131828308105,\n",
       " 2.8786693811416626,\n",
       " 2.8848644495010376,\n",
       " 2.80751895904541,\n",
       " 2.7941433787345886,\n",
       " 2.846788167953491,\n",
       " 2.797757923603058,\n",
       " 2.7750020027160645,\n",
       " 2.7935835123062134,\n",
       " 2.745407223701477,\n",
       " 2.8540396094322205,\n",
       " 2.875681459903717,\n",
       " 2.7766175866127014,\n",
       " 2.8235479593276978,\n",
       " 2.745219588279724,\n",
       " 2.848203718662262,\n",
       " 2.826350510120392,\n",
       " 2.8532156944274902,\n",
       " 2.8464372754096985,\n",
       " 2.7121512293815613,\n",
       " 2.975037395954132,\n",
       " 2.879140555858612,\n",
       " 2.798708200454712,\n",
       " 2.857944428920746,\n",
       " 2.834488332271576,\n",
       " 2.8059921264648438,\n",
       " 2.7676331400871277,\n",
       " 2.7236194610595703,\n",
       " 2.8007928133010864,\n",
       " 2.920433461666107,\n",
       " 2.755549669265747,\n",
       " 2.9076417684555054,\n",
       " 2.905123710632324,\n",
       " 2.7616408467292786,\n",
       " 2.8766393661499023,\n",
       " 2.8725781440734863,\n",
       " 2.787916123867035,\n",
       " 2.8723567128181458,\n",
       " 2.8160850405693054,\n",
       " 2.8699225187301636,\n",
       " 2.9037908911705017,\n",
       " 2.8269187211990356,\n",
       " 2.84110027551651,\n",
       " 2.977898895740509,\n",
       " 2.754807770252228,\n",
       " 2.743764638900757,\n",
       " 2.8259048461914062,\n",
       " 2.776760160923004,\n",
       " 2.7984546422958374,\n",
       " 2.823308527469635,\n",
       " 2.8107361793518066,\n",
       " 2.9985703825950623,\n",
       " 2.7231844067573547,\n",
       " 2.7261351943016052,\n",
       " 2.8113956451416016,\n",
       " 2.7684158086776733,\n",
       " 2.8002980947494507,\n",
       " 2.9347092509269714,\n",
       " 2.7241218090057373,\n",
       " 2.784810721874237,\n",
       " 2.690392017364502,\n",
       " 2.7684455513954163,\n",
       " 2.7637547850608826,\n",
       " 2.8088281750679016,\n",
       " 2.7981948256492615,\n",
       " 2.859451413154602,\n",
       " 2.717009961605072,\n",
       " 2.701221227645874,\n",
       " 2.8694212436676025,\n",
       " 2.7350037693977356,\n",
       " 2.8015270233154297,\n",
       " 2.757707417011261,\n",
       " 2.810836434364319,\n",
       " 2.865033984184265,\n",
       " 2.888719141483307,\n",
       " 2.926084518432617,\n",
       " 2.7718552947044373,\n",
       " 2.7670236825942993,\n",
       " 2.7258347868919373,\n",
       " 2.861356735229492,\n",
       " 2.797607719898224,\n",
       " 2.8392159938812256,\n",
       " 2.938460350036621,\n",
       " 2.7828420996665955,\n",
       " 2.8487784266471863,\n",
       " 2.826201379299164,\n",
       " 2.8773216009140015,\n",
       " 2.7112048268318176,\n",
       " 2.8022950887680054,\n",
       " 2.7236417531967163,\n",
       " 2.843993663787842,\n",
       " 2.756750524044037,\n",
       " 2.8595293760299683,\n",
       " 2.885831356048584,\n",
       " 2.8499781489372253,\n",
       " 2.9300310611724854,\n",
       " 2.7453858256340027,\n",
       " 2.796424686908722,\n",
       " 2.8407363891601562,\n",
       " 2.7427298426628113,\n",
       " 2.845807909965515,\n",
       " 2.874183714389801,\n",
       " 2.884539783000946,\n",
       " 2.9491151571273804,\n",
       " 2.8026604652404785,\n",
       " 2.8401635885238647,\n",
       " 2.8172189593315125,\n",
       " 2.771556079387665,\n",
       " 2.803862988948822,\n",
       " 2.9124481678009033,\n",
       " 2.75303190946579,\n",
       " 2.7488001585006714,\n",
       " 2.775329113006592,\n",
       " 2.8309977650642395,\n",
       " 2.9053595066070557,\n",
       " 2.7967292070388794,\n",
       " 2.871752679347992,\n",
       " 2.7887431979179382,\n",
       " 2.7430484890937805,\n",
       " 2.810877740383148,\n",
       " 2.8652453422546387,\n",
       " 2.7527557015419006,\n",
       " 2.7632285356521606,\n",
       " 2.8709920048713684,\n",
       " 2.8389240503311157,\n",
       " 2.7939078211784363,\n",
       " 2.7635916471481323,\n",
       " 2.849804162979126,\n",
       " 2.8149614930152893,\n",
       " 2.8991151452064514,\n",
       " 2.8372864723205566,\n",
       " 2.9244385361671448,\n",
       " 2.79951411485672,\n",
       " 2.760323405265808,\n",
       " 2.877358913421631,\n",
       " 2.8079354763031006,\n",
       " 2.7537805438041687,\n",
       " 2.8742308020591736,\n",
       " 2.7983970046043396,\n",
       " 2.8393141627311707,\n",
       " 2.959262192249298,\n",
       " 2.8246190547943115,\n",
       " 2.8167431950569153,\n",
       " 2.7521172165870667,\n",
       " 2.8377254009246826,\n",
       " 2.801835596561432,\n",
       " 2.736653506755829,\n",
       " 2.7812902331352234,\n",
       " 2.771565318107605,\n",
       " 2.80364453792572,\n",
       " 2.9365248680114746,\n",
       " 2.832237124443054,\n",
       " 2.799540102481842,\n",
       " 2.8257201313972473,\n",
       " 2.870144486427307,\n",
       " 2.8344380855560303,\n",
       " 2.8175438046455383,\n",
       " 2.904297709465027,\n",
       " 2.7574398517608643,\n",
       " 2.834513545036316,\n",
       " 2.7863852977752686,\n",
       " 2.8895875811576843,\n",
       " 2.791024625301361,\n",
       " 2.727837383747101,\n",
       " 2.810570776462555,\n",
       " 2.8288748264312744,\n",
       " 2.8115574717521667,\n",
       " 2.7513923048973083,\n",
       " 2.7599026560783386,\n",
       " 2.8288532495498657,\n",
       " 2.884048819541931,\n",
       " 2.73446923494339,\n",
       " 2.6906983852386475,\n",
       " 2.875506579875946,\n",
       " 2.9314932227134705,\n",
       " 2.7890787720680237,\n",
       " 2.805092692375183,\n",
       " 2.712068498134613,\n",
       " 2.8233624696731567,\n",
       " 2.84485399723053,\n",
       " 2.72974956035614,\n",
       " 2.736789643764496,\n",
       " 2.8239923119544983,\n",
       " 2.7983096837997437,\n",
       " 2.8207539319992065,\n",
       " 2.7440832257270813,\n",
       " 2.8628002405166626,\n",
       " 2.823673903942108,\n",
       " 2.778314530849457,\n",
       " 2.7625381350517273,\n",
       " 2.852787673473358,\n",
       " 2.672089636325836,\n",
       " 2.736225426197052,\n",
       " 2.9129961729049683,\n",
       " 2.822488248348236,\n",
       " 2.830933630466461,\n",
       " 2.8026680946350098,\n",
       " 2.7672247886657715,\n",
       " 2.8355363607406616,\n",
       " 2.8526001572608948,\n",
       " 2.7826141715049744,\n",
       " 2.8208200931549072,\n",
       " 2.758695960044861,\n",
       " 2.7928576469421387,\n",
       " 2.798464000225067,\n",
       " 2.757755219936371,\n",
       " 2.8162599205970764,\n",
       " 2.6863240599632263,\n",
       " 2.8277063369750977,\n",
       " 2.811004340648651,\n",
       " 2.8760733008384705,\n",
       " 2.7856560945510864,\n",
       " 2.709576964378357,\n",
       " 2.9001572132110596,\n",
       " 2.7073079347610474,\n",
       " 2.8814541697502136,\n",
       " 2.768598973751068,\n",
       " 2.8758922815322876,\n",
       " 2.718916416168213,\n",
       " 2.850684642791748,\n",
       " 2.805126667022705,\n",
       " 2.8589845299720764,\n",
       " 2.676941990852356,\n",
       " 2.7807597517967224,\n",
       " 2.7830020785331726,\n",
       " 2.8192667961120605,\n",
       " 2.8078683614730835,\n",
       " 2.770232081413269,\n",
       " 2.775304615497589,\n",
       " 2.748589873313904,\n",
       " 2.760804831981659,\n",
       " 2.773971140384674]"
      ]
     },
     "execution_count": 284,
     "metadata": {},
     "output_type": "execute_result"
    }
   ],
   "source": [
    "average_mae_history"
   ]
  },
  {
   "cell_type": "code",
   "execution_count": 294,
   "metadata": {},
   "outputs": [
    {
     "data": {
      "image/png": "[encoded data removed]",
      "text/plain": [
       "<Figure size 432x288 with 1 Axes>"
      ]
     },
     "metadata": {
      "needs_background": "light"
     },
     "output_type": "display_data"
    }
   ],
   "source": [
    "import matplotlib.pyplot as plt\n",
    "\n",
    "plt.plot(range(1, len(average_mae_history)+1), average_mae_history)\n",
    "plt.xlabel('Epochs')\n",
    "plt.ylabel('Validation MAE')\n",
    "plt.show()"
   ]
  },
  {
   "cell_type": "code",
   "execution_count": 298,
   "metadata": {},
   "outputs": [
    {
     "data": {
      "image/png": "[encoded data removed]",
      "text/plain": [
       "<Figure size 432x288 with 1 Axes>"
      ]
     },
     "metadata": {
      "needs_background": "light"
     },
     "output_type": "display_data"
    }
   ],
   "source": [
    "def smooth_curve(points, factor=0.9):\n",
    "    smoothed_points = []\n",
    "    for point in points:\n",
    "        if smoothed_points:\n",
    "            previous = smoothed_points[-1]\n",
    "            smoothed_points.append(previous * factor + point * (1 - factor))\n",
    "        else:\n",
    "            smoothed_points.append(point)\n",
    "    return smoothed_points\n",
    "\n",
    "smooth_mae_history = smooth_curve(average_mae_history[10:])\n",
    "\n",
    "plt.plot(range(1, len(smooth_mae_history)+1), smooth_mae_history)\n",
    "plt.xlabel('Epochs')\n",
    "plt.ylabel('Validation MAE')\n",
    "plt.show()"
   ]
  },
  {
   "cell_type": "markdown",
   "metadata": {},
   "source": [
    "- 에포크가 약 80번째 이후로 MAE 가 증가하는 것을 볼 수 있음-> 오버피팅 문제 시작"
   ]
  },
  {
   "cell_type": "code",
   "execution_count": 305,
   "metadata": {},
   "outputs": [
    {
     "name": "stdout",
     "output_type": "stream",
     "text": [
      "4/4 [==============================] - 0s 1ms/step - loss: 18.1343 - mae: 2.6062\n"
     ]
    }
   ],
   "source": [
    "model=build_model()\n",
    "model.fit(train_data, train_targets, epochs = 80, batch_size = 16, verbose = 0)\n",
    "test_mse_score, test_mae_score = model.evaluate(test_data, test_targets)"
   ]
  },
  {
   "cell_type": "code",
   "execution_count": 307,
   "metadata": {},
   "outputs": [
    {
     "data": {
      "text/plain": [
       "2.606170415878296"
      ]
     },
     "execution_count": 307,
     "metadata": {},
     "output_type": "execute_result"
    }
   ],
   "source": [
    "test_mae_score"
   ]
  }
 ],
 "metadata": {
  "kernelspec": {
   "display_name": "Python 3",
   "language": "python",
   "name": "python3"
  },
  "language_info": {
   "codemirror_mode": {
    "name": "ipython",
    "version": 3
   },
   "file_extension": ".py",
   "mimetype": "text/x-python",
   "name": "python",
   "nbconvert_exporter": "python",
   "pygments_lexer": "ipython3",
   "version": "3.8.3"
  }
 },
 "nbformat": 4,
 "nbformat_minor": 4
}
